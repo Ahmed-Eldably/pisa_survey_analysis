{
 "cells": [
  {
   "cell_type": "markdown",
   "metadata": {},
   "source": [
    "# Project 5: Communicate Data Findings\n",
    "\n",
    "\n",
    "# Table of Contents\n",
    "<ul>\n",
    "<li><a href=\"#Introduction\">Introduction</a></li>\n",
    "<li><a href=\"#gath\">Gathering Data</a></li>\n",
    "<li><a href=\"#assess\">Assessing Data</a></li>\n",
    "<li><a href=\"#clean\">Cleaning Data</a></li>\n",
    "<li><a href=\"#da\">Data Analysis</a></li>\n",
    "</ul>"
   ]
  },
  {
   "cell_type": "markdown",
   "metadata": {},
   "source": [
    "<a name = \"Intro\"></a>\n",
    "# Introduction\n",
    "\n",
    "The Programme for International Student Assessment, abbreviated as PISA, is an international study by the Organisation for Economic Co-operation and Development to assess educational systems by measuring the school performance of 15-year-old pupils on Mathematics, Science and Reading."
   ]
  },
  {
   "cell_type": "code",
   "execution_count": 1,
   "metadata": {},
   "outputs": [],
   "source": [
    "import datetime\n",
    "import io\n",
    "import calendar\n",
    "import glob\n",
    "import os\n",
    "import pandas as pd\n",
    "import seaborn as sns\n",
    "import numpy as np\n",
    "import matplotlib.pyplot as plt\n",
    "import codecs\n",
    "from pandas.api.types import CategoricalDtype\n",
    "\n",
    "import warnings\n",
    "warnings.filterwarnings('ignore')\n"
   ]
  },
  {
   "cell_type": "markdown",
   "metadata": {},
   "source": [
    "## Gathering Data"
   ]
  },
  {
   "cell_type": "markdown",
   "metadata": {},
   "source": [
    "The PISA data was provided by Udacity, and you can access it from [here](https://www.google.com/url?q=https://s3.amazonaws.com/udacity-hosted-downloads/ud507/pisa2012.csv.zip&sa=D&ust=1596812885258000&usg=AOvVaw2OpL4_DIqTkmvEdFtmLxjn), or you can find it in the repository. The data is about a survey of students' skills and knowledge as they approach the end of compulsory education."
   ]
  },
  {
   "cell_type": "code",
   "execution_count": 2,
   "metadata": {},
   "outputs": [],
   "source": [
    "# Reading data using pd.read_csv and since the file encoding is not UTF-8,\n",
    "# I checked the file encoding type and it is latin-1\n",
    "df = pd.read_csv('pisa2012.csv', encoding = \"latin-1\")"
   ]
  },
  {
   "cell_type": "markdown",
   "metadata": {},
   "source": [
    "# Assesing Data"
   ]
  },
  {
   "cell_type": "markdown",
   "metadata": {},
   "source": [
    "The PISA data contains 636 columns of different attributes for students, teachers, and countries. Also, the data has 485490 entries of students who took the test. The next step is to figure out which columns are going to be useful for the analysis.\n"
   ]
  },
  {
   "cell_type": "code",
   "execution_count": 3,
   "metadata": {},
   "outputs": [
    {
     "data": {
      "text/html": [
       "<div>\n",
       "<style scoped>\n",
       "    .dataframe tbody tr th:only-of-type {\n",
       "        vertical-align: middle;\n",
       "    }\n",
       "\n",
       "    .dataframe tbody tr th {\n",
       "        vertical-align: top;\n",
       "    }\n",
       "\n",
       "    .dataframe thead th {\n",
       "        text-align: right;\n",
       "    }\n",
       "</style>\n",
       "<table border=\"1\" class=\"dataframe\">\n",
       "  <thead>\n",
       "    <tr style=\"text-align: right;\">\n",
       "      <th></th>\n",
       "      <th>Unnamed: 0</th>\n",
       "      <th>CNT</th>\n",
       "      <th>SUBNATIO</th>\n",
       "      <th>STRATUM</th>\n",
       "      <th>OECD</th>\n",
       "      <th>NC</th>\n",
       "      <th>SCHOOLID</th>\n",
       "      <th>STIDSTD</th>\n",
       "      <th>ST01Q01</th>\n",
       "      <th>ST02Q01</th>\n",
       "      <th>...</th>\n",
       "      <th>W_FSTR75</th>\n",
       "      <th>W_FSTR76</th>\n",
       "      <th>W_FSTR77</th>\n",
       "      <th>W_FSTR78</th>\n",
       "      <th>W_FSTR79</th>\n",
       "      <th>W_FSTR80</th>\n",
       "      <th>WVARSTRR</th>\n",
       "      <th>VAR_UNIT</th>\n",
       "      <th>SENWGT_STU</th>\n",
       "      <th>VER_STU</th>\n",
       "    </tr>\n",
       "  </thead>\n",
       "  <tbody>\n",
       "    <tr>\n",
       "      <th>0</th>\n",
       "      <td>1</td>\n",
       "      <td>Albania</td>\n",
       "      <td>80000</td>\n",
       "      <td>ALB0006</td>\n",
       "      <td>Non-OECD</td>\n",
       "      <td>Albania</td>\n",
       "      <td>1</td>\n",
       "      <td>1</td>\n",
       "      <td>10</td>\n",
       "      <td>1.0</td>\n",
       "      <td>...</td>\n",
       "      <td>13.7954</td>\n",
       "      <td>13.9235</td>\n",
       "      <td>13.1249</td>\n",
       "      <td>13.1249</td>\n",
       "      <td>4.3389</td>\n",
       "      <td>13.0829</td>\n",
       "      <td>19</td>\n",
       "      <td>1</td>\n",
       "      <td>0.2098</td>\n",
       "      <td>22NOV13</td>\n",
       "    </tr>\n",
       "    <tr>\n",
       "      <th>1</th>\n",
       "      <td>2</td>\n",
       "      <td>Albania</td>\n",
       "      <td>80000</td>\n",
       "      <td>ALB0006</td>\n",
       "      <td>Non-OECD</td>\n",
       "      <td>Albania</td>\n",
       "      <td>1</td>\n",
       "      <td>2</td>\n",
       "      <td>10</td>\n",
       "      <td>1.0</td>\n",
       "      <td>...</td>\n",
       "      <td>13.7954</td>\n",
       "      <td>13.9235</td>\n",
       "      <td>13.1249</td>\n",
       "      <td>13.1249</td>\n",
       "      <td>4.3389</td>\n",
       "      <td>13.0829</td>\n",
       "      <td>19</td>\n",
       "      <td>1</td>\n",
       "      <td>0.2098</td>\n",
       "      <td>22NOV13</td>\n",
       "    </tr>\n",
       "    <tr>\n",
       "      <th>2</th>\n",
       "      <td>3</td>\n",
       "      <td>Albania</td>\n",
       "      <td>80000</td>\n",
       "      <td>ALB0006</td>\n",
       "      <td>Non-OECD</td>\n",
       "      <td>Albania</td>\n",
       "      <td>1</td>\n",
       "      <td>3</td>\n",
       "      <td>9</td>\n",
       "      <td>1.0</td>\n",
       "      <td>...</td>\n",
       "      <td>12.7307</td>\n",
       "      <td>12.7307</td>\n",
       "      <td>12.7307</td>\n",
       "      <td>12.7307</td>\n",
       "      <td>4.2436</td>\n",
       "      <td>12.7307</td>\n",
       "      <td>19</td>\n",
       "      <td>1</td>\n",
       "      <td>0.1999</td>\n",
       "      <td>22NOV13</td>\n",
       "    </tr>\n",
       "    <tr>\n",
       "      <th>3</th>\n",
       "      <td>4</td>\n",
       "      <td>Albania</td>\n",
       "      <td>80000</td>\n",
       "      <td>ALB0006</td>\n",
       "      <td>Non-OECD</td>\n",
       "      <td>Albania</td>\n",
       "      <td>1</td>\n",
       "      <td>4</td>\n",
       "      <td>9</td>\n",
       "      <td>1.0</td>\n",
       "      <td>...</td>\n",
       "      <td>12.7307</td>\n",
       "      <td>12.7307</td>\n",
       "      <td>12.7307</td>\n",
       "      <td>12.7307</td>\n",
       "      <td>4.2436</td>\n",
       "      <td>12.7307</td>\n",
       "      <td>19</td>\n",
       "      <td>1</td>\n",
       "      <td>0.1999</td>\n",
       "      <td>22NOV13</td>\n",
       "    </tr>\n",
       "    <tr>\n",
       "      <th>4</th>\n",
       "      <td>5</td>\n",
       "      <td>Albania</td>\n",
       "      <td>80000</td>\n",
       "      <td>ALB0006</td>\n",
       "      <td>Non-OECD</td>\n",
       "      <td>Albania</td>\n",
       "      <td>1</td>\n",
       "      <td>5</td>\n",
       "      <td>9</td>\n",
       "      <td>1.0</td>\n",
       "      <td>...</td>\n",
       "      <td>12.7307</td>\n",
       "      <td>12.7307</td>\n",
       "      <td>12.7307</td>\n",
       "      <td>12.7307</td>\n",
       "      <td>4.2436</td>\n",
       "      <td>12.7307</td>\n",
       "      <td>19</td>\n",
       "      <td>1</td>\n",
       "      <td>0.1999</td>\n",
       "      <td>22NOV13</td>\n",
       "    </tr>\n",
       "    <tr>\n",
       "      <th>...</th>\n",
       "      <td>...</td>\n",
       "      <td>...</td>\n",
       "      <td>...</td>\n",
       "      <td>...</td>\n",
       "      <td>...</td>\n",
       "      <td>...</td>\n",
       "      <td>...</td>\n",
       "      <td>...</td>\n",
       "      <td>...</td>\n",
       "      <td>...</td>\n",
       "      <td>...</td>\n",
       "      <td>...</td>\n",
       "      <td>...</td>\n",
       "      <td>...</td>\n",
       "      <td>...</td>\n",
       "      <td>...</td>\n",
       "      <td>...</td>\n",
       "      <td>...</td>\n",
       "      <td>...</td>\n",
       "      <td>...</td>\n",
       "      <td>...</td>\n",
       "    </tr>\n",
       "    <tr>\n",
       "      <th>485485</th>\n",
       "      <td>485486</td>\n",
       "      <td>Vietnam</td>\n",
       "      <td>7040000</td>\n",
       "      <td>VNM0317</td>\n",
       "      <td>Non-OECD</td>\n",
       "      <td>Viet Nam</td>\n",
       "      <td>162</td>\n",
       "      <td>4955</td>\n",
       "      <td>10</td>\n",
       "      <td>3.0</td>\n",
       "      <td>...</td>\n",
       "      <td>31.2413</td>\n",
       "      <td>93.7238</td>\n",
       "      <td>93.7238</td>\n",
       "      <td>93.7238</td>\n",
       "      <td>93.7238</td>\n",
       "      <td>31.2413</td>\n",
       "      <td>41</td>\n",
       "      <td>1</td>\n",
       "      <td>0.0653</td>\n",
       "      <td>22NOV13</td>\n",
       "    </tr>\n",
       "    <tr>\n",
       "      <th>485486</th>\n",
       "      <td>485487</td>\n",
       "      <td>Vietnam</td>\n",
       "      <td>7040000</td>\n",
       "      <td>VNM0317</td>\n",
       "      <td>Non-OECD</td>\n",
       "      <td>Viet Nam</td>\n",
       "      <td>162</td>\n",
       "      <td>4956</td>\n",
       "      <td>10</td>\n",
       "      <td>3.0</td>\n",
       "      <td>...</td>\n",
       "      <td>33.9163</td>\n",
       "      <td>96.0036</td>\n",
       "      <td>96.0036</td>\n",
       "      <td>96.0036</td>\n",
       "      <td>96.0036</td>\n",
       "      <td>33.9163</td>\n",
       "      <td>41</td>\n",
       "      <td>1</td>\n",
       "      <td>0.0688</td>\n",
       "      <td>22NOV13</td>\n",
       "    </tr>\n",
       "    <tr>\n",
       "      <th>485487</th>\n",
       "      <td>485488</td>\n",
       "      <td>Vietnam</td>\n",
       "      <td>7040000</td>\n",
       "      <td>VNM0317</td>\n",
       "      <td>Non-OECD</td>\n",
       "      <td>Viet Nam</td>\n",
       "      <td>162</td>\n",
       "      <td>4957</td>\n",
       "      <td>10</td>\n",
       "      <td>3.0</td>\n",
       "      <td>...</td>\n",
       "      <td>33.9163</td>\n",
       "      <td>96.0036</td>\n",
       "      <td>96.0036</td>\n",
       "      <td>96.0036</td>\n",
       "      <td>96.0036</td>\n",
       "      <td>33.9163</td>\n",
       "      <td>41</td>\n",
       "      <td>1</td>\n",
       "      <td>0.0688</td>\n",
       "      <td>22NOV13</td>\n",
       "    </tr>\n",
       "    <tr>\n",
       "      <th>485488</th>\n",
       "      <td>485489</td>\n",
       "      <td>Vietnam</td>\n",
       "      <td>7040000</td>\n",
       "      <td>VNM0317</td>\n",
       "      <td>Non-OECD</td>\n",
       "      <td>Viet Nam</td>\n",
       "      <td>162</td>\n",
       "      <td>4958</td>\n",
       "      <td>10</td>\n",
       "      <td>3.0</td>\n",
       "      <td>...</td>\n",
       "      <td>33.9163</td>\n",
       "      <td>96.0036</td>\n",
       "      <td>96.0036</td>\n",
       "      <td>96.0036</td>\n",
       "      <td>96.0036</td>\n",
       "      <td>33.9163</td>\n",
       "      <td>41</td>\n",
       "      <td>1</td>\n",
       "      <td>0.0688</td>\n",
       "      <td>22NOV13</td>\n",
       "    </tr>\n",
       "    <tr>\n",
       "      <th>485489</th>\n",
       "      <td>485490</td>\n",
       "      <td>Vietnam</td>\n",
       "      <td>7040000</td>\n",
       "      <td>VNM0317</td>\n",
       "      <td>Non-OECD</td>\n",
       "      <td>Viet Nam</td>\n",
       "      <td>162</td>\n",
       "      <td>4959</td>\n",
       "      <td>10</td>\n",
       "      <td>3.0</td>\n",
       "      <td>...</td>\n",
       "      <td>31.2413</td>\n",
       "      <td>93.7238</td>\n",
       "      <td>93.7238</td>\n",
       "      <td>93.7238</td>\n",
       "      <td>93.7238</td>\n",
       "      <td>31.2413</td>\n",
       "      <td>41</td>\n",
       "      <td>1</td>\n",
       "      <td>0.0653</td>\n",
       "      <td>22NOV13</td>\n",
       "    </tr>\n",
       "  </tbody>\n",
       "</table>\n",
       "<p>485490 rows × 636 columns</p>\n",
       "</div>"
      ],
      "text/plain": [
       "        Unnamed: 0      CNT  SUBNATIO  STRATUM      OECD         NC  SCHOOLID  \\\n",
       "0                1  Albania     80000  ALB0006  Non-OECD    Albania         1   \n",
       "1                2  Albania     80000  ALB0006  Non-OECD    Albania         1   \n",
       "2                3  Albania     80000  ALB0006  Non-OECD    Albania         1   \n",
       "3                4  Albania     80000  ALB0006  Non-OECD    Albania         1   \n",
       "4                5  Albania     80000  ALB0006  Non-OECD    Albania         1   \n",
       "...            ...      ...       ...      ...       ...        ...       ...   \n",
       "485485      485486  Vietnam   7040000  VNM0317  Non-OECD  Viet Nam        162   \n",
       "485486      485487  Vietnam   7040000  VNM0317  Non-OECD  Viet Nam        162   \n",
       "485487      485488  Vietnam   7040000  VNM0317  Non-OECD  Viet Nam        162   \n",
       "485488      485489  Vietnam   7040000  VNM0317  Non-OECD  Viet Nam        162   \n",
       "485489      485490  Vietnam   7040000  VNM0317  Non-OECD  Viet Nam        162   \n",
       "\n",
       "        STIDSTD  ST01Q01  ST02Q01  ...  W_FSTR75  W_FSTR76 W_FSTR77 W_FSTR78  \\\n",
       "0             1       10      1.0  ...   13.7954   13.9235  13.1249  13.1249   \n",
       "1             2       10      1.0  ...   13.7954   13.9235  13.1249  13.1249   \n",
       "2             3        9      1.0  ...   12.7307   12.7307  12.7307  12.7307   \n",
       "3             4        9      1.0  ...   12.7307   12.7307  12.7307  12.7307   \n",
       "4             5        9      1.0  ...   12.7307   12.7307  12.7307  12.7307   \n",
       "...         ...      ...      ...  ...       ...       ...      ...      ...   \n",
       "485485     4955       10      3.0  ...   31.2413   93.7238  93.7238  93.7238   \n",
       "485486     4956       10      3.0  ...   33.9163   96.0036  96.0036  96.0036   \n",
       "485487     4957       10      3.0  ...   33.9163   96.0036  96.0036  96.0036   \n",
       "485488     4958       10      3.0  ...   33.9163   96.0036  96.0036  96.0036   \n",
       "485489     4959       10      3.0  ...   31.2413   93.7238  93.7238  93.7238   \n",
       "\n",
       "        W_FSTR79 W_FSTR80 WVARSTRR VAR_UNIT SENWGT_STU  VER_STU  \n",
       "0         4.3389  13.0829       19        1     0.2098  22NOV13  \n",
       "1         4.3389  13.0829       19        1     0.2098  22NOV13  \n",
       "2         4.2436  12.7307       19        1     0.1999  22NOV13  \n",
       "3         4.2436  12.7307       19        1     0.1999  22NOV13  \n",
       "4         4.2436  12.7307       19        1     0.1999  22NOV13  \n",
       "...          ...      ...      ...      ...        ...      ...  \n",
       "485485   93.7238  31.2413       41        1     0.0653  22NOV13  \n",
       "485486   96.0036  33.9163       41        1     0.0688  22NOV13  \n",
       "485487   96.0036  33.9163       41        1     0.0688  22NOV13  \n",
       "485488   96.0036  33.9163       41        1     0.0688  22NOV13  \n",
       "485489   93.7238  31.2413       41        1     0.0653  22NOV13  \n",
       "\n",
       "[485490 rows x 636 columns]"
      ]
     },
     "execution_count": 3,
     "metadata": {},
     "output_type": "execute_result"
    }
   ],
   "source": [
    "df"
   ]
  },
  {
   "cell_type": "markdown",
   "metadata": {},
   "source": [
    "After reading columns, I found out that they also have inappropriate names that do not give us any useful information. Thankfully, Udacity provided us another CSV file called pisadict2012.csv that has descriptions of every column, so we can easily find out what columns we need for analysis."
   ]
  },
  {
   "cell_type": "code",
   "execution_count": 4,
   "metadata": {},
   "outputs": [
    {
     "data": {
      "text/html": [
       "<div>\n",
       "<style scoped>\n",
       "    .dataframe tbody tr th:only-of-type {\n",
       "        vertical-align: middle;\n",
       "    }\n",
       "\n",
       "    .dataframe tbody tr th {\n",
       "        vertical-align: top;\n",
       "    }\n",
       "\n",
       "    .dataframe thead th {\n",
       "        text-align: right;\n",
       "    }\n",
       "</style>\n",
       "<table border=\"1\" class=\"dataframe\">\n",
       "  <thead>\n",
       "    <tr style=\"text-align: right;\">\n",
       "      <th></th>\n",
       "      <th>Unnamed: 0</th>\n",
       "      <th>SUBNATIO</th>\n",
       "      <th>SCHOOLID</th>\n",
       "      <th>STIDSTD</th>\n",
       "      <th>ST01Q01</th>\n",
       "      <th>ST02Q01</th>\n",
       "      <th>ST03Q01</th>\n",
       "      <th>ST03Q02</th>\n",
       "      <th>ST06Q01</th>\n",
       "      <th>ST115Q01</th>\n",
       "      <th>...</th>\n",
       "      <th>W_FSTR74</th>\n",
       "      <th>W_FSTR75</th>\n",
       "      <th>W_FSTR76</th>\n",
       "      <th>W_FSTR77</th>\n",
       "      <th>W_FSTR78</th>\n",
       "      <th>W_FSTR79</th>\n",
       "      <th>W_FSTR80</th>\n",
       "      <th>WVARSTRR</th>\n",
       "      <th>VAR_UNIT</th>\n",
       "      <th>SENWGT_STU</th>\n",
       "    </tr>\n",
       "  </thead>\n",
       "  <tbody>\n",
       "    <tr>\n",
       "      <th>count</th>\n",
       "      <td>485490.000000</td>\n",
       "      <td>4.854900e+05</td>\n",
       "      <td>485490.000000</td>\n",
       "      <td>485490.000000</td>\n",
       "      <td>485490.000000</td>\n",
       "      <td>485438.000000</td>\n",
       "      <td>485490.000000</td>\n",
       "      <td>485490.000000</td>\n",
       "      <td>457994.000000</td>\n",
       "      <td>479269.000000</td>\n",
       "      <td>...</td>\n",
       "      <td>485490.000000</td>\n",
       "      <td>485490.000000</td>\n",
       "      <td>485490.000000</td>\n",
       "      <td>485490.000000</td>\n",
       "      <td>485490.000000</td>\n",
       "      <td>485490.000000</td>\n",
       "      <td>485490.000000</td>\n",
       "      <td>485490.000000</td>\n",
       "      <td>485490.000000</td>\n",
       "      <td>485490.000000</td>\n",
       "    </tr>\n",
       "    <tr>\n",
       "      <th>mean</th>\n",
       "      <td>242745.500000</td>\n",
       "      <td>4.315457e+06</td>\n",
       "      <td>240.152197</td>\n",
       "      <td>6134.066201</td>\n",
       "      <td>9.813323</td>\n",
       "      <td>2.579260</td>\n",
       "      <td>6.558512</td>\n",
       "      <td>1996.070061</td>\n",
       "      <td>6.148963</td>\n",
       "      <td>1.265356</td>\n",
       "      <td>...</td>\n",
       "      <td>50.844201</td>\n",
       "      <td>51.020378</td>\n",
       "      <td>50.943149</td>\n",
       "      <td>50.685275</td>\n",
       "      <td>51.019842</td>\n",
       "      <td>50.540724</td>\n",
       "      <td>50.721164</td>\n",
       "      <td>40.013920</td>\n",
       "      <td>1.531189</td>\n",
       "      <td>0.140054</td>\n",
       "    </tr>\n",
       "    <tr>\n",
       "      <th>std</th>\n",
       "      <td>140149.035431</td>\n",
       "      <td>2.524434e+06</td>\n",
       "      <td>278.563016</td>\n",
       "      <td>6733.144944</td>\n",
       "      <td>3.734726</td>\n",
       "      <td>2.694013</td>\n",
       "      <td>3.705244</td>\n",
       "      <td>0.255250</td>\n",
       "      <td>0.970693</td>\n",
       "      <td>0.578992</td>\n",
       "      <td>...</td>\n",
       "      <td>120.684726</td>\n",
       "      <td>122.946533</td>\n",
       "      <td>121.170883</td>\n",
       "      <td>119.267686</td>\n",
       "      <td>122.981541</td>\n",
       "      <td>119.479516</td>\n",
       "      <td>119.799018</td>\n",
       "      <td>22.951264</td>\n",
       "      <td>0.539759</td>\n",
       "      <td>0.137864</td>\n",
       "    </tr>\n",
       "    <tr>\n",
       "      <th>min</th>\n",
       "      <td>1.000000</td>\n",
       "      <td>8.000000e+04</td>\n",
       "      <td>1.000000</td>\n",
       "      <td>1.000000</td>\n",
       "      <td>7.000000</td>\n",
       "      <td>1.000000</td>\n",
       "      <td>1.000000</td>\n",
       "      <td>1996.000000</td>\n",
       "      <td>4.000000</td>\n",
       "      <td>1.000000</td>\n",
       "      <td>...</td>\n",
       "      <td>0.292900</td>\n",
       "      <td>0.292900</td>\n",
       "      <td>0.292900</td>\n",
       "      <td>0.292900</td>\n",
       "      <td>0.292900</td>\n",
       "      <td>0.292900</td>\n",
       "      <td>0.292900</td>\n",
       "      <td>1.000000</td>\n",
       "      <td>1.000000</td>\n",
       "      <td>0.000500</td>\n",
       "    </tr>\n",
       "    <tr>\n",
       "      <th>25%</th>\n",
       "      <td>121373.250000</td>\n",
       "      <td>2.030000e+06</td>\n",
       "      <td>61.000000</td>\n",
       "      <td>1811.000000</td>\n",
       "      <td>9.000000</td>\n",
       "      <td>1.000000</td>\n",
       "      <td>4.000000</td>\n",
       "      <td>1996.000000</td>\n",
       "      <td>6.000000</td>\n",
       "      <td>1.000000</td>\n",
       "      <td>...</td>\n",
       "      <td>4.660300</td>\n",
       "      <td>4.664800</td>\n",
       "      <td>4.643100</td>\n",
       "      <td>4.667000</td>\n",
       "      <td>4.675200</td>\n",
       "      <td>4.651850</td>\n",
       "      <td>4.660300</td>\n",
       "      <td>20.000000</td>\n",
       "      <td>1.000000</td>\n",
       "      <td>0.037800</td>\n",
       "    </tr>\n",
       "    <tr>\n",
       "      <th>50%</th>\n",
       "      <td>242745.500000</td>\n",
       "      <td>4.100000e+06</td>\n",
       "      <td>136.000000</td>\n",
       "      <td>3740.000000</td>\n",
       "      <td>10.000000</td>\n",
       "      <td>1.000000</td>\n",
       "      <td>7.000000</td>\n",
       "      <td>1996.000000</td>\n",
       "      <td>6.000000</td>\n",
       "      <td>1.000000</td>\n",
       "      <td>...</td>\n",
       "      <td>13.637700</td>\n",
       "      <td>13.698900</td>\n",
       "      <td>13.611700</td>\n",
       "      <td>13.672100</td>\n",
       "      <td>13.731100</td>\n",
       "      <td>13.582000</td>\n",
       "      <td>13.600200</td>\n",
       "      <td>40.000000</td>\n",
       "      <td>2.000000</td>\n",
       "      <td>0.145200</td>\n",
       "    </tr>\n",
       "    <tr>\n",
       "      <th>75%</th>\n",
       "      <td>364117.750000</td>\n",
       "      <td>6.880000e+06</td>\n",
       "      <td>291.000000</td>\n",
       "      <td>7456.000000</td>\n",
       "      <td>10.000000</td>\n",
       "      <td>3.000000</td>\n",
       "      <td>9.000000</td>\n",
       "      <td>1996.000000</td>\n",
       "      <td>7.000000</td>\n",
       "      <td>1.000000</td>\n",
       "      <td>...</td>\n",
       "      <td>41.233500</td>\n",
       "      <td>41.512500</td>\n",
       "      <td>41.695200</td>\n",
       "      <td>41.097300</td>\n",
       "      <td>41.189600</td>\n",
       "      <td>41.290925</td>\n",
       "      <td>41.356000</td>\n",
       "      <td>60.000000</td>\n",
       "      <td>2.000000</td>\n",
       "      <td>0.199900</td>\n",
       "    </tr>\n",
       "    <tr>\n",
       "      <th>max</th>\n",
       "      <td>485490.000000</td>\n",
       "      <td>8.580000e+06</td>\n",
       "      <td>1471.000000</td>\n",
       "      <td>33806.000000</td>\n",
       "      <td>96.000000</td>\n",
       "      <td>25.000000</td>\n",
       "      <td>99.000000</td>\n",
       "      <td>1997.000000</td>\n",
       "      <td>16.000000</td>\n",
       "      <td>4.000000</td>\n",
       "      <td>...</td>\n",
       "      <td>2476.566800</td>\n",
       "      <td>4155.283000</td>\n",
       "      <td>3743.450100</td>\n",
       "      <td>3232.163700</td>\n",
       "      <td>3904.868100</td>\n",
       "      <td>3607.478300</td>\n",
       "      <td>3412.174100</td>\n",
       "      <td>80.000000</td>\n",
       "      <td>3.000000</td>\n",
       "      <td>5.095500</td>\n",
       "    </tr>\n",
       "  </tbody>\n",
       "</table>\n",
       "<p>8 rows × 268 columns</p>\n",
       "</div>"
      ],
      "text/plain": [
       "          Unnamed: 0      SUBNATIO       SCHOOLID        STIDSTD  \\\n",
       "count  485490.000000  4.854900e+05  485490.000000  485490.000000   \n",
       "mean   242745.500000  4.315457e+06     240.152197    6134.066201   \n",
       "std    140149.035431  2.524434e+06     278.563016    6733.144944   \n",
       "min         1.000000  8.000000e+04       1.000000       1.000000   \n",
       "25%    121373.250000  2.030000e+06      61.000000    1811.000000   \n",
       "50%    242745.500000  4.100000e+06     136.000000    3740.000000   \n",
       "75%    364117.750000  6.880000e+06     291.000000    7456.000000   \n",
       "max    485490.000000  8.580000e+06    1471.000000   33806.000000   \n",
       "\n",
       "             ST01Q01        ST02Q01        ST03Q01        ST03Q02  \\\n",
       "count  485490.000000  485438.000000  485490.000000  485490.000000   \n",
       "mean        9.813323       2.579260       6.558512    1996.070061   \n",
       "std         3.734726       2.694013       3.705244       0.255250   \n",
       "min         7.000000       1.000000       1.000000    1996.000000   \n",
       "25%         9.000000       1.000000       4.000000    1996.000000   \n",
       "50%        10.000000       1.000000       7.000000    1996.000000   \n",
       "75%        10.000000       3.000000       9.000000    1996.000000   \n",
       "max        96.000000      25.000000      99.000000    1997.000000   \n",
       "\n",
       "             ST06Q01       ST115Q01  ...       W_FSTR74       W_FSTR75  \\\n",
       "count  457994.000000  479269.000000  ...  485490.000000  485490.000000   \n",
       "mean        6.148963       1.265356  ...      50.844201      51.020378   \n",
       "std         0.970693       0.578992  ...     120.684726     122.946533   \n",
       "min         4.000000       1.000000  ...       0.292900       0.292900   \n",
       "25%         6.000000       1.000000  ...       4.660300       4.664800   \n",
       "50%         6.000000       1.000000  ...      13.637700      13.698900   \n",
       "75%         7.000000       1.000000  ...      41.233500      41.512500   \n",
       "max        16.000000       4.000000  ...    2476.566800    4155.283000   \n",
       "\n",
       "            W_FSTR76       W_FSTR77       W_FSTR78       W_FSTR79  \\\n",
       "count  485490.000000  485490.000000  485490.000000  485490.000000   \n",
       "mean       50.943149      50.685275      51.019842      50.540724   \n",
       "std       121.170883     119.267686     122.981541     119.479516   \n",
       "min         0.292900       0.292900       0.292900       0.292900   \n",
       "25%         4.643100       4.667000       4.675200       4.651850   \n",
       "50%        13.611700      13.672100      13.731100      13.582000   \n",
       "75%        41.695200      41.097300      41.189600      41.290925   \n",
       "max      3743.450100    3232.163700    3904.868100    3607.478300   \n",
       "\n",
       "            W_FSTR80       WVARSTRR       VAR_UNIT     SENWGT_STU  \n",
       "count  485490.000000  485490.000000  485490.000000  485490.000000  \n",
       "mean       50.721164      40.013920       1.531189       0.140054  \n",
       "std       119.799018      22.951264       0.539759       0.137864  \n",
       "min         0.292900       1.000000       1.000000       0.000500  \n",
       "25%         4.660300      20.000000       1.000000       0.037800  \n",
       "50%        13.600200      40.000000       2.000000       0.145200  \n",
       "75%        41.356000      60.000000       2.000000       0.199900  \n",
       "max      3412.174100      80.000000       3.000000       5.095500  \n",
       "\n",
       "[8 rows x 268 columns]"
      ]
     },
     "execution_count": 4,
     "metadata": {},
     "output_type": "execute_result"
    }
   ],
   "source": [
    "df.describe()"
   ]
  },
  {
   "cell_type": "code",
   "execution_count": 5,
   "metadata": {},
   "outputs": [
    {
     "name": "stdout",
     "output_type": "stream",
     "text": [
      "<class 'pandas.core.frame.DataFrame'>\n",
      "RangeIndex: 485490 entries, 0 to 485489\n",
      "Columns: 636 entries, Unnamed: 0 to VER_STU\n",
      "dtypes: float64(250), int64(18), object(368)\n",
      "memory usage: 2.3+ GB\n"
     ]
    }
   ],
   "source": [
    "df.info()"
   ]
  },
  {
   "cell_type": "markdown",
   "metadata": {},
   "source": [
    "Since the dataset has so many columns (636), we have to select the ones that are only useful in our analysis. Additionally, we should have more appropriate column names to make it easier to deal with. \n",
    "\n",
    "Udacity also provided us with another CSV file called: `pisadict2012.csv`, which has a description of every column in the dataset. Therefore, I used this file to assess the data and find out which columns are going to be useful for the analysis."
   ]
  },
  {
   "cell_type": "code",
   "execution_count": 6,
   "metadata": {},
   "outputs": [
    {
     "data": {
      "text/plain": [
       "0"
      ]
     },
     "execution_count": 6,
     "metadata": {},
     "output_type": "execute_result"
    }
   ],
   "source": [
    "df[\"CNT\"].isna().sum()"
   ]
  },
  {
   "cell_type": "code",
   "execution_count": 7,
   "metadata": {
    "scrolled": true
   },
   "outputs": [
    {
     "data": {
      "text/plain": [
       "10    262631\n",
       "9     152850\n",
       "11     38397\n",
       "8      23764\n",
       "7       3536\n",
       "12      3436\n",
       "96       873\n",
       "13         3\n",
       "Name: ST01Q01, dtype: int64"
      ]
     },
     "execution_count": 7,
     "metadata": {},
     "output_type": "execute_result"
    }
   ],
   "source": [
    "df[\"ST01Q01\"].value_counts()"
   ]
  },
  {
   "cell_type": "code",
   "execution_count": 8,
   "metadata": {},
   "outputs": [
    {
     "data": {
      "text/plain": [
       "count    485438.000000\n",
       "mean          2.579260\n",
       "std           2.694013\n",
       "min           1.000000\n",
       "25%           1.000000\n",
       "50%           1.000000\n",
       "75%           3.000000\n",
       "max          25.000000\n",
       "Name: ST02Q01, dtype: float64"
      ]
     },
     "execution_count": 8,
     "metadata": {},
     "output_type": "execute_result"
    }
   ],
   "source": [
    "df[\"ST02Q01\"].describe()"
   ]
  },
  {
   "cell_type": "code",
   "execution_count": 9,
   "metadata": {},
   "outputs": [
    {
     "data": {
      "text/plain": [
       "0          2\n",
       "1          2\n",
       "2          9\n",
       "3          8\n",
       "4         10\n",
       "          ..\n",
       "485485     6\n",
       "485486     2\n",
       "485487     6\n",
       "485488     6\n",
       "485489    12\n",
       "Name: ST03Q01, Length: 485490, dtype: int64"
      ]
     },
     "execution_count": 9,
     "metadata": {},
     "output_type": "execute_result"
    }
   ],
   "source": [
    "df[\"ST03Q01\"]"
   ]
  },
  {
   "cell_type": "code",
   "execution_count": 10,
   "metadata": {},
   "outputs": [
    {
     "data": {
      "text/plain": [
       "array(['No  ', 'Yes, for more than one year',\n",
       "       'Yes, for one year or less ', nan], dtype=object)"
      ]
     },
     "execution_count": 10,
     "metadata": {},
     "output_type": "execute_result"
    }
   ],
   "source": [
    "df[\"ST05Q01\"].unique()"
   ]
  },
  {
   "cell_type": "code",
   "execution_count": 11,
   "metadata": {},
   "outputs": [
    {
     "data": {
      "text/plain": [
       "array(['No, never', nan, 'Yes, once', 'Yes, twice or more'], dtype=object)"
      ]
     },
     "execution_count": 11,
     "metadata": {},
     "output_type": "execute_result"
    }
   ],
   "source": [
    "df[\"ST07Q01\"].unique()"
   ]
  },
  {
   "cell_type": "code",
   "execution_count": 12,
   "metadata": {},
   "outputs": [
    {
     "data": {
      "text/plain": [
       "array(['<ISCED level 3A> ', '<ISCED level 3B, 3C> ',\n",
       "       'She did not complete <ISCED level 1> ', '<ISCED level 2> ',\n",
       "       '<ISCED level 1> ', nan], dtype=object)"
      ]
     },
     "execution_count": 12,
     "metadata": {},
     "output_type": "execute_result"
    }
   ],
   "source": [
    "df[\"ST13Q01\"].unique()"
   ]
  },
  {
   "cell_type": "code",
   "execution_count": 13,
   "metadata": {},
   "outputs": [
    {
     "data": {
      "text/plain": [
       "array(['No', 'Yes', nan], dtype=object)"
      ]
     },
     "execution_count": 13,
     "metadata": {},
     "output_type": "execute_result"
    }
   ],
   "source": [
    "df[\"ST14Q01\"].unique()"
   ]
  },
  {
   "cell_type": "code",
   "execution_count": 14,
   "metadata": {},
   "outputs": [
    {
     "data": {
      "text/plain": [
       "array(['Language of the test', nan, 'Other language'], dtype=object)"
      ]
     },
     "execution_count": 14,
     "metadata": {},
     "output_type": "execute_result"
    }
   ],
   "source": [
    "df[\"ST25Q01\"].unique()"
   ]
  },
  {
   "cell_type": "code",
   "execution_count": 15,
   "metadata": {},
   "outputs": [
    {
     "data": {
      "text/plain": [
       "26-100 books           135184\n",
       "11-25 books             97335\n",
       "0-10 books              95042\n",
       "101-200 books           68350\n",
       "201-500 books           49267\n",
       "More than 500 books     28587\n",
       "Name: ST28Q01, dtype: int64"
      ]
     },
     "execution_count": 15,
     "metadata": {},
     "output_type": "execute_result"
    }
   ],
   "source": [
    "df[\"ST28Q01\"].value_counts()"
   ]
  },
  {
   "cell_type": "code",
   "execution_count": 16,
   "metadata": {},
   "outputs": [
    {
     "data": {
      "text/plain": [
       "Agree                153693\n",
       "Strongly agree       132309\n",
       "Disagree              23316\n",
       "Strongly disagree      5842\n",
       "Name: ST35Q04, dtype: int64"
      ]
     },
     "execution_count": 16,
     "metadata": {},
     "output_type": "execute_result"
    }
   ],
   "source": [
    "df[\"ST35Q04\"].value_counts()"
   ]
  },
  {
   "cell_type": "code",
   "execution_count": 17,
   "metadata": {},
   "outputs": [
    {
     "data": {
      "text/plain": [
       "Agree                135358\n",
       "Disagree              96860\n",
       "Strongly agree        50867\n",
       "Strongly disagree     28895\n",
       "Name: ST42Q04, dtype: int64"
      ]
     },
     "execution_count": 17,
     "metadata": {},
     "output_type": "execute_result"
    }
   ],
   "source": [
    "df[\"ST42Q04\"].value_counts()"
   ]
  },
  {
   "cell_type": "code",
   "execution_count": 18,
   "metadata": {},
   "outputs": [
    {
     "data": {
      "text/plain": [
       "array([nan, 'Strongly agree', 'Agree', 'Disagree', 'Strongly disagree'],\n",
       "      dtype=object)"
      ]
     },
     "execution_count": 18,
     "metadata": {},
     "output_type": "execute_result"
    }
   ],
   "source": [
    "df[\"IC22Q04\"].unique()"
   ]
  },
  {
   "cell_type": "code",
   "execution_count": 19,
   "metadata": {},
   "outputs": [
    {
     "data": {
      "text/plain": [
       "array([16.17, 15.58, 15.67, 15.5 , 16.08, 15.83, 15.92, 16.  , 15.75,\n",
       "       16.25, 15.33, 15.42, 16.33, 15.25, 15.17,   nan])"
      ]
     },
     "execution_count": 19,
     "metadata": {},
     "output_type": "execute_result"
    }
   ],
   "source": [
    "df[\"AGE\"].unique()"
   ]
  },
  {
   "cell_type": "code",
   "execution_count": 20,
   "metadata": {},
   "outputs": [
    {
     "data": {
      "text/plain": [
       "array([ 0., -1., -2.,  1., -3.,  2., nan,  3.])"
      ]
     },
     "execution_count": 20,
     "metadata": {},
     "output_type": "execute_result"
    }
   ],
   "source": [
    "df[\"GRADE\"].unique()"
   ]
  },
  {
   "cell_type": "code",
   "execution_count": 21,
   "metadata": {},
   "outputs": [
    {
     "data": {
      "text/plain": [
       "count    314764.000000\n",
       "mean          0.152647\n",
       "std           0.955031\n",
       "min          -2.370000\n",
       "25%          -0.470000\n",
       "50%           0.060000\n",
       "75%           0.790000\n",
       "max           2.550000\n",
       "Name: ANXMAT, dtype: float64"
      ]
     },
     "execution_count": 21,
     "metadata": {},
     "output_type": "execute_result"
    }
   ],
   "source": [
    "df[\"ANXMAT\"].describe()"
   ]
  },
  {
   "cell_type": "code",
   "execution_count": 22,
   "metadata": {},
   "outputs": [
    {
     "data": {
      "text/plain": [
       "array(['Native', nan, 'Second-Generation', 'First-Generation'],\n",
       "      dtype=object)"
      ]
     },
     "execution_count": 22,
     "metadata": {},
     "output_type": "execute_result"
    }
   ],
   "source": [
    "df[\"IMMIG\"].unique()"
   ]
  },
  {
   "cell_type": "code",
   "execution_count": 23,
   "metadata": {},
   "outputs": [
    {
     "data": {
      "text/plain": [
       "0           NaN\n",
       "1         315.0\n",
       "2         300.0\n",
       "3         135.0\n",
       "4           NaN\n",
       "          ...  \n",
       "485485      NaN\n",
       "485486      NaN\n",
       "485487      NaN\n",
       "485488      NaN\n",
       "485489      NaN\n",
       "Name: LMINS, Length: 485490, dtype: float64"
      ]
     },
     "execution_count": 23,
     "metadata": {},
     "output_type": "execute_result"
    }
   ],
   "source": [
    "df[\"LMINS\"]"
   ]
  },
  {
   "cell_type": "code",
   "execution_count": 24,
   "metadata": {},
   "outputs": [
    {
     "data": {
      "text/plain": [
       "count    313599.000000\n",
       "mean          0.177720\n",
       "std           1.011025\n",
       "min          -2.864500\n",
       "25%          -0.657700\n",
       "50%           0.248600\n",
       "75%           1.116900\n",
       "max           1.843300\n",
       "Name: MTSUP, dtype: float64"
      ]
     },
     "execution_count": 24,
     "metadata": {},
     "output_type": "execute_result"
    }
   ],
   "source": [
    "df[\"MTSUP\"].describe()"
   ]
  },
  {
   "cell_type": "code",
   "execution_count": 25,
   "metadata": {},
   "outputs": [
    {
     "data": {
      "text/plain": [
       "count    316371.000000\n",
       "mean          0.152789\n",
       "std           0.995688\n",
       "min          -2.920000\n",
       "25%          -0.470000\n",
       "50%           0.110000\n",
       "75%           0.970000\n",
       "max           1.680000\n",
       "Name: TEACHSUP, dtype: float64"
      ]
     },
     "execution_count": 25,
     "metadata": {},
     "output_type": "execute_result"
    }
   ],
   "source": [
    "df[\"TEACHSUP\"].describe()"
   ]
  },
  {
   "cell_type": "code",
   "execution_count": 26,
   "metadata": {
    "scrolled": true
   },
   "outputs": [
    {
     "data": {
      "text/plain": [
       "count    485490.000000\n",
       "mean        469.621653\n",
       "std         103.265391\n",
       "min          19.792800\n",
       "25%         395.318600\n",
       "50%         466.201900\n",
       "75%         541.057800\n",
       "max         962.229300\n",
       "Name: PV1MATH, dtype: float64"
      ]
     },
     "execution_count": 26,
     "metadata": {},
     "output_type": "execute_result"
    }
   ],
   "source": [
    "df[\"PV1MATH\"].describe()"
   ]
  },
  {
   "cell_type": "code",
   "execution_count": 27,
   "metadata": {},
   "outputs": [
    {
     "data": {
      "text/plain": [
       "0           1\n",
       "1           1\n",
       "2           1\n",
       "3           1\n",
       "4           1\n",
       "         ... \n",
       "485485    162\n",
       "485486    162\n",
       "485487    162\n",
       "485488    162\n",
       "485489    162\n",
       "Name: SCHOOLID, Length: 485490, dtype: int64"
      ]
     },
     "execution_count": 27,
     "metadata": {},
     "output_type": "execute_result"
    }
   ],
   "source": [
    "df[\"SCHOOLID\"]"
   ]
  },
  {
   "cell_type": "code",
   "execution_count": 28,
   "metadata": {},
   "outputs": [
    {
     "data": {
      "text/plain": [
       "Strongly agree       151735\n",
       "Agree                135359\n",
       "Disagree              20343\n",
       "Strongly disagree      4085\n",
       "Name: ST89Q02, dtype: int64"
      ]
     },
     "execution_count": 28,
     "metadata": {},
     "output_type": "execute_result"
    }
   ],
   "source": [
    "df[\"ST89Q02\"].value_counts()"
   ]
  },
  {
   "cell_type": "code",
   "execution_count": 29,
   "metadata": {},
   "outputs": [
    {
     "data": {
      "text/plain": [
       "No, never    95068\n",
       "Yes          70096\n",
       "Name: EC03Q04, dtype: int64"
      ]
     },
     "execution_count": 29,
     "metadata": {},
     "output_type": "execute_result"
    }
   ],
   "source": [
    "df[\"EC03Q04\"].value_counts()"
   ]
  },
  {
   "cell_type": "code",
   "execution_count": 30,
   "metadata": {},
   "outputs": [
    {
     "data": {
      "text/plain": [
       "Yes, and I use it          193195\n",
       "Yes, but I dont use it     65650\n",
       "No                          38130\n",
       "Name: IC02Q01, dtype: int64"
      ]
     },
     "execution_count": 30,
     "metadata": {},
     "output_type": "execute_result"
    }
   ],
   "source": [
    "df[\"IC02Q01\"].value_counts()"
   ]
  },
  {
   "cell_type": "code",
   "execution_count": 31,
   "metadata": {},
   "outputs": [
    {
     "data": {
      "text/plain": [
       "array([nan, 'Yes, but I don\\x92t use it', 'No', 'Yes, and I use it'],\n",
       "      dtype=object)"
      ]
     },
     "execution_count": 31,
     "metadata": {},
     "output_type": "execute_result"
    }
   ],
   "source": [
    "df[\"IC02Q01\"].unique()"
   ]
  },
  {
   "cell_type": "code",
   "execution_count": 32,
   "metadata": {},
   "outputs": [
    {
     "data": {
      "text/plain": [
       "0                     Agree\n",
       "1                  Disagree\n",
       "2         Strongly disagree\n",
       "3                       NaN\n",
       "4                  Disagree\n",
       "                ...        \n",
       "485485                Agree\n",
       "485486             Disagree\n",
       "485487             Disagree\n",
       "485488                  NaN\n",
       "485489                Agree\n",
       "Name: ST43Q04, Length: 485490, dtype: object"
      ]
     },
     "execution_count": 32,
     "metadata": {},
     "output_type": "execute_result"
    }
   ],
   "source": [
    "df[\"ST43Q04\"]"
   ]
  },
  {
   "cell_type": "code",
   "execution_count": 33,
   "metadata": {},
   "outputs": [
    {
     "data": {
      "text/plain": [
       "Yes, and I use it          193195\n",
       "Yes, but I dont use it     65650\n",
       "No                          38130\n",
       "Name: IC02Q01, dtype: int64"
      ]
     },
     "execution_count": 33,
     "metadata": {},
     "output_type": "execute_result"
    }
   ],
   "source": [
    "df[\"IC02Q01\"].value_counts()"
   ]
  },
  {
   "cell_type": "code",
   "execution_count": 34,
   "metadata": {},
   "outputs": [
    {
     "data": {
      "text/plain": [
       "Yes, and I use it          197587\n",
       "Yes, but I dont use it     60613\n",
       "No                          38744\n",
       "Name: IC02Q04, dtype: int64"
      ]
     },
     "execution_count": 34,
     "metadata": {},
     "output_type": "execute_result"
    }
   ],
   "source": [
    "df[\"IC02Q04\"].value_counts()"
   ]
  },
  {
   "cell_type": "code",
   "execution_count": 35,
   "metadata": {},
   "outputs": [
    {
     "data": {
      "text/plain": [
       "97    173598\n",
       "1     117342\n",
       "2      83150\n",
       "3      43654\n",
       "4      28600\n",
       "99     15564\n",
       "5      12711\n",
       "6       4884\n",
       "7       4390\n",
       "98      1597\n",
       "Name: IC05Q01, dtype: int64"
      ]
     },
     "execution_count": 35,
     "metadata": {},
     "output_type": "execute_result"
    }
   ],
   "source": [
    "df[\"IC05Q01\"].value_counts()"
   ]
  },
  {
   "cell_type": "code",
   "execution_count": 36,
   "metadata": {},
   "outputs": [
    {
     "data": {
      "text/plain": [
       "Never or hardly ever     154027\n",
       "Once or twice a month     70340\n",
       "Once or twice a week      43426\n",
       "Almost every day          14533\n",
       "Every day                  8489\n",
       "Name: IC10Q09, dtype: int64"
      ]
     },
     "execution_count": 36,
     "metadata": {},
     "output_type": "execute_result"
    }
   ],
   "source": [
    "df[\"IC10Q09\"].value_counts()"
   ]
  },
  {
   "cell_type": "code",
   "execution_count": 37,
   "metadata": {},
   "outputs": [
    {
     "data": {
      "text/plain": [
       "No, never    95068\n",
       "Yes          70096\n",
       "Name: EC03Q04, dtype: int64"
      ]
     },
     "execution_count": 37,
     "metadata": {},
     "output_type": "execute_result"
    }
   ],
   "source": [
    "df[\"EC03Q04\"].value_counts()"
   ]
  },
  {
   "cell_type": "code",
   "execution_count": 38,
   "metadata": {},
   "outputs": [
    {
     "data": {
      "text/plain": [
       "count    292585.000000\n",
       "mean         -0.025161\n",
       "std           1.007925\n",
       "min          -1.610400\n",
       "25%          -0.785400\n",
       "50%           0.058400\n",
       "75%           0.669800\n",
       "max           4.109900\n",
       "Name: USESCH, dtype: float64"
      ]
     },
     "execution_count": 38,
     "metadata": {},
     "output_type": "execute_result"
    }
   ],
   "source": [
    "df[\"USESCH\"].describe()"
   ]
  },
  {
   "cell_type": "code",
   "execution_count": 39,
   "metadata": {},
   "outputs": [
    {
     "data": {
      "text/plain": [
       "6.0      22290\n",
       "4.0      20770\n",
       "5.0      20567\n",
       "3.0      19935\n",
       "2.0      18701\n",
       "         ...  \n",
       "142.0        1\n",
       "154.0        1\n",
       "153.0        1\n",
       "124.0        1\n",
       "118.0        1\n",
       "Name: OUTHOURS, Length: 143, dtype: int64"
      ]
     },
     "execution_count": 39,
     "metadata": {},
     "output_type": "execute_result"
    }
   ],
   "source": [
    "df[\"OUTHOURS\"].value_counts()"
   ]
  },
  {
   "cell_type": "code",
   "execution_count": 40,
   "metadata": {},
   "outputs": [
    {
     "data": {
      "text/plain": [
       "0         Did not repeat a <grade>\n",
       "1         Did not repeat a <grade>\n",
       "2         Did not repeat a <grade>\n",
       "3         Did not repeat a <grade>\n",
       "4         Did not repeat a <grade>\n",
       "                    ...           \n",
       "485485    Did not repeat a <grade>\n",
       "485486    Did not repeat a <grade>\n",
       "485487    Did not repeat a <grade>\n",
       "485488    Did not repeat a <grade>\n",
       "485489    Did not repeat a <grade>\n",
       "Name: REPEAT, Length: 485490, dtype: object"
      ]
     },
     "execution_count": 40,
     "metadata": {},
     "output_type": "execute_result"
    }
   ],
   "source": [
    "df[\"REPEAT\"]"
   ]
  },
  {
   "cell_type": "code",
   "execution_count": 41,
   "metadata": {},
   "outputs": [
    {
     "data": {
      "text/plain": [
       " 0.0    348298\n",
       "-1.0     76159\n",
       " 1.0     39179\n",
       "-2.0     15528\n",
       "-3.0      4370\n",
       " 2.0      1078\n",
       " 3.0         5\n",
       "Name: GRADE, dtype: int64"
      ]
     },
     "execution_count": 41,
     "metadata": {},
     "output_type": "execute_result"
    }
   ],
   "source": [
    "df[\"GRADE\"].value_counts()"
   ]
  },
  {
   "cell_type": "code",
   "execution_count": 42,
   "metadata": {},
   "outputs": [
    {
     "data": {
      "text/plain": [
       "count    485490.000000\n",
       "mean        469.695396\n",
       "std         103.419170\n",
       "min          37.085200\n",
       "25%         395.240700\n",
       "50%         466.435600\n",
       "75%         541.447300\n",
       "max         907.625800\n",
       "Name: PV5MATH, dtype: float64"
      ]
     },
     "execution_count": 42,
     "metadata": {},
     "output_type": "execute_result"
    }
   ],
   "source": [
    "df[\"PV5MATH\"].describe()"
   ]
  },
  {
   "cell_type": "code",
   "execution_count": 43,
   "metadata": {},
   "outputs": [
    {
     "data": {
      "text/plain": [
       "count    485490.000000\n",
       "mean         50.919113\n",
       "std         107.382092\n",
       "min           1.000000\n",
       "25%           6.386300\n",
       "50%          15.782900\n",
       "75%          44.473300\n",
       "max        2597.884400\n",
       "Name: W_FSTUWT, dtype: float64"
      ]
     },
     "execution_count": 43,
     "metadata": {},
     "output_type": "execute_result"
    }
   ],
   "source": [
    "df[\"W_FSTUWT\"].describe()"
   ]
  },
  {
   "cell_type": "code",
   "execution_count": 44,
   "metadata": {},
   "outputs": [
    {
     "data": {
      "text/plain": [
       "count    485490.000000\n",
       "mean          0.140054\n",
       "std           0.137864\n",
       "min           0.000500\n",
       "25%           0.037800\n",
       "50%           0.145200\n",
       "75%           0.199900\n",
       "max           5.095500\n",
       "Name: SENWGT_STU, dtype: float64"
      ]
     },
     "execution_count": 44,
     "metadata": {},
     "output_type": "execute_result"
    }
   ],
   "source": [
    "df[\"SENWGT_STU\"].describe()"
   ]
  },
  {
   "cell_type": "code",
   "execution_count": 45,
   "metadata": {},
   "outputs": [
    {
     "data": {
      "text/plain": [
       "count    485490.000000\n",
       "mean          0.140054\n",
       "std           0.137864\n",
       "min           0.000500\n",
       "25%           0.037800\n",
       "50%           0.145200\n",
       "75%           0.199900\n",
       "max           5.095500\n",
       "Name: SENWGT_STU, dtype: float64"
      ]
     },
     "execution_count": 45,
     "metadata": {},
     "output_type": "execute_result"
    }
   ],
   "source": [
    "df[\"SENWGT_STU\"].describe()"
   ]
  },
  {
   "cell_type": "code",
   "execution_count": 46,
   "metadata": {},
   "outputs": [
    {
     "data": {
      "text/plain": [
       "array(['Yes', 'No', nan], dtype=object)"
      ]
     },
     "execution_count": 46,
     "metadata": {},
     "output_type": "execute_result"
    }
   ],
   "source": [
    "df[\"ST26Q03\"].unique()"
   ]
  },
  {
   "cell_type": "code",
   "execution_count": 47,
   "metadata": {},
   "outputs": [
    {
     "data": {
      "text/plain": [
       "Most Lessons            116036\n",
       "Every Lesson            114357\n",
       "Some Lessons             64800\n",
       "Never or Hardly Ever     19716\n",
       "Name: ST79Q01, dtype: int64"
      ]
     },
     "execution_count": 47,
     "metadata": {},
     "output_type": "execute_result"
    }
   ],
   "source": [
    "df[\"ST79Q01\"].value_counts()"
   ]
  },
  {
   "cell_type": "markdown",
   "metadata": {},
   "source": [
    "By reading columns descriptions, I was able to figure out which columns should I use for my analysis:\n",
    "\n",
    "\n",
    "1. country                                   \n",
    "2. is_oecd                                 \n",
    "3. birth_month                                \n",
    "4. birth_year                                 \n",
    "5. gender                                     \n",
    "6. belong_at_school                        \n",
    "7. feel_happy_at_school\n",
    "8. computer_at_school\n",
    "8. age_of_student       \n",
    "9. pv1_mathematics                         \n"
   ]
  },
  {
   "cell_type": "code",
   "execution_count": 48,
   "metadata": {
    "scrolled": false
   },
   "outputs": [
    {
     "data": {
      "text/html": [
       "<div>\n",
       "<style scoped>\n",
       "    .dataframe tbody tr th:only-of-type {\n",
       "        vertical-align: middle;\n",
       "    }\n",
       "\n",
       "    .dataframe tbody tr th {\n",
       "        vertical-align: top;\n",
       "    }\n",
       "\n",
       "    .dataframe thead th {\n",
       "        text-align: right;\n",
       "    }\n",
       "</style>\n",
       "<table border=\"1\" class=\"dataframe\">\n",
       "  <thead>\n",
       "    <tr style=\"text-align: right;\">\n",
       "      <th></th>\n",
       "      <th>CNT</th>\n",
       "      <th>OECD</th>\n",
       "      <th>ST03Q01</th>\n",
       "      <th>ST03Q02</th>\n",
       "      <th>ST04Q01</th>\n",
       "      <th>ST87Q03</th>\n",
       "      <th>ST87Q07</th>\n",
       "      <th>IC02Q01</th>\n",
       "      <th>AGE</th>\n",
       "      <th>PV1MATH</th>\n",
       "    </tr>\n",
       "  </thead>\n",
       "  <tbody>\n",
       "    <tr>\n",
       "      <th>0</th>\n",
       "      <td>Albania</td>\n",
       "      <td>Non-OECD</td>\n",
       "      <td>2</td>\n",
       "      <td>1996</td>\n",
       "      <td>Female</td>\n",
       "      <td>Strongly disagree</td>\n",
       "      <td>Agree</td>\n",
       "      <td>NaN</td>\n",
       "      <td>16.17</td>\n",
       "      <td>406.8469</td>\n",
       "    </tr>\n",
       "    <tr>\n",
       "      <th>1</th>\n",
       "      <td>Albania</td>\n",
       "      <td>Non-OECD</td>\n",
       "      <td>2</td>\n",
       "      <td>1996</td>\n",
       "      <td>Female</td>\n",
       "      <td>NaN</td>\n",
       "      <td>NaN</td>\n",
       "      <td>NaN</td>\n",
       "      <td>16.17</td>\n",
       "      <td>486.1427</td>\n",
       "    </tr>\n",
       "    <tr>\n",
       "      <th>2</th>\n",
       "      <td>Albania</td>\n",
       "      <td>Non-OECD</td>\n",
       "      <td>9</td>\n",
       "      <td>1996</td>\n",
       "      <td>Female</td>\n",
       "      <td>NaN</td>\n",
       "      <td>NaN</td>\n",
       "      <td>NaN</td>\n",
       "      <td>15.58</td>\n",
       "      <td>533.2684</td>\n",
       "    </tr>\n",
       "    <tr>\n",
       "      <th>3</th>\n",
       "      <td>Albania</td>\n",
       "      <td>Non-OECD</td>\n",
       "      <td>8</td>\n",
       "      <td>1996</td>\n",
       "      <td>Female</td>\n",
       "      <td>NaN</td>\n",
       "      <td>NaN</td>\n",
       "      <td>NaN</td>\n",
       "      <td>15.67</td>\n",
       "      <td>412.2215</td>\n",
       "    </tr>\n",
       "    <tr>\n",
       "      <th>4</th>\n",
       "      <td>Albania</td>\n",
       "      <td>Non-OECD</td>\n",
       "      <td>10</td>\n",
       "      <td>1996</td>\n",
       "      <td>Female</td>\n",
       "      <td>Strongly agree</td>\n",
       "      <td>Strongly agree</td>\n",
       "      <td>NaN</td>\n",
       "      <td>15.50</td>\n",
       "      <td>381.9209</td>\n",
       "    </tr>\n",
       "    <tr>\n",
       "      <th>...</th>\n",
       "      <td>...</td>\n",
       "      <td>...</td>\n",
       "      <td>...</td>\n",
       "      <td>...</td>\n",
       "      <td>...</td>\n",
       "      <td>...</td>\n",
       "      <td>...</td>\n",
       "      <td>...</td>\n",
       "      <td>...</td>\n",
       "      <td>...</td>\n",
       "    </tr>\n",
       "    <tr>\n",
       "      <th>485485</th>\n",
       "      <td>Vietnam</td>\n",
       "      <td>Non-OECD</td>\n",
       "      <td>6</td>\n",
       "      <td>1996</td>\n",
       "      <td>Female</td>\n",
       "      <td>NaN</td>\n",
       "      <td>NaN</td>\n",
       "      <td>NaN</td>\n",
       "      <td>15.83</td>\n",
       "      <td>477.1849</td>\n",
       "    </tr>\n",
       "    <tr>\n",
       "      <th>485486</th>\n",
       "      <td>Vietnam</td>\n",
       "      <td>Non-OECD</td>\n",
       "      <td>2</td>\n",
       "      <td>1996</td>\n",
       "      <td>Male</td>\n",
       "      <td>NaN</td>\n",
       "      <td>Disagree</td>\n",
       "      <td>NaN</td>\n",
       "      <td>16.17</td>\n",
       "      <td>518.9360</td>\n",
       "    </tr>\n",
       "    <tr>\n",
       "      <th>485487</th>\n",
       "      <td>Vietnam</td>\n",
       "      <td>Non-OECD</td>\n",
       "      <td>6</td>\n",
       "      <td>1996</td>\n",
       "      <td>Male</td>\n",
       "      <td>Agree</td>\n",
       "      <td>Agree</td>\n",
       "      <td>NaN</td>\n",
       "      <td>15.83</td>\n",
       "      <td>475.2376</td>\n",
       "    </tr>\n",
       "    <tr>\n",
       "      <th>485488</th>\n",
       "      <td>Vietnam</td>\n",
       "      <td>Non-OECD</td>\n",
       "      <td>6</td>\n",
       "      <td>1996</td>\n",
       "      <td>Male</td>\n",
       "      <td>Disagree</td>\n",
       "      <td>Agree</td>\n",
       "      <td>NaN</td>\n",
       "      <td>15.83</td>\n",
       "      <td>550.9503</td>\n",
       "    </tr>\n",
       "    <tr>\n",
       "      <th>485489</th>\n",
       "      <td>Vietnam</td>\n",
       "      <td>Non-OECD</td>\n",
       "      <td>12</td>\n",
       "      <td>1996</td>\n",
       "      <td>Female</td>\n",
       "      <td>NaN</td>\n",
       "      <td>NaN</td>\n",
       "      <td>NaN</td>\n",
       "      <td>15.33</td>\n",
       "      <td>470.0187</td>\n",
       "    </tr>\n",
       "  </tbody>\n",
       "</table>\n",
       "<p>485490 rows × 10 columns</p>\n",
       "</div>"
      ],
      "text/plain": [
       "            CNT      OECD  ST03Q01  ST03Q02 ST04Q01            ST87Q03  \\\n",
       "0       Albania  Non-OECD        2     1996  Female  Strongly disagree   \n",
       "1       Albania  Non-OECD        2     1996  Female                NaN   \n",
       "2       Albania  Non-OECD        9     1996  Female                NaN   \n",
       "3       Albania  Non-OECD        8     1996  Female                NaN   \n",
       "4       Albania  Non-OECD       10     1996  Female     Strongly agree   \n",
       "...         ...       ...      ...      ...     ...                ...   \n",
       "485485  Vietnam  Non-OECD        6     1996  Female                NaN   \n",
       "485486  Vietnam  Non-OECD        2     1996    Male                NaN   \n",
       "485487  Vietnam  Non-OECD        6     1996    Male              Agree   \n",
       "485488  Vietnam  Non-OECD        6     1996    Male           Disagree   \n",
       "485489  Vietnam  Non-OECD       12     1996  Female                NaN   \n",
       "\n",
       "               ST87Q07 IC02Q01    AGE   PV1MATH  \n",
       "0                Agree     NaN  16.17  406.8469  \n",
       "1                  NaN     NaN  16.17  486.1427  \n",
       "2                  NaN     NaN  15.58  533.2684  \n",
       "3                  NaN     NaN  15.67  412.2215  \n",
       "4       Strongly agree     NaN  15.50  381.9209  \n",
       "...                ...     ...    ...       ...  \n",
       "485485             NaN     NaN  15.83  477.1849  \n",
       "485486        Disagree     NaN  16.17  518.9360  \n",
       "485487           Agree     NaN  15.83  475.2376  \n",
       "485488           Agree     NaN  15.83  550.9503  \n",
       "485489             NaN     NaN  15.33  470.0187  \n",
       "\n",
       "[485490 rows x 10 columns]"
      ]
     },
     "execution_count": 48,
     "metadata": {},
     "output_type": "execute_result"
    }
   ],
   "source": [
    "# Columns needed for Analyis\n",
    "\n",
    "columns = [\"CNT\", \"OECD\", \"ST03Q01\", \"ST03Q02\", \"ST04Q01\",\n",
    "           \"IC02Q01\", \"AGE\", \"ST87Q03\", \"ST87Q07\", \"PV1MATH\"]\n",
    "\n",
    "pisa_df = pd.read_csv('pisa2012.csv', encoding = \"latin-1\", \n",
    "                 usecols = columns)\n",
    "\n",
    "pisa_df\n"
   ]
  },
  {
   "cell_type": "code",
   "execution_count": 49,
   "metadata": {},
   "outputs": [
    {
     "name": "stdout",
     "output_type": "stream",
     "text": [
      "<class 'pandas.core.frame.DataFrame'>\n",
      "RangeIndex: 485490 entries, 0 to 485489\n",
      "Data columns (total 10 columns):\n",
      " #   Column   Non-Null Count   Dtype  \n",
      "---  ------   --------------   -----  \n",
      " 0   CNT      485490 non-null  object \n",
      " 1   OECD     485490 non-null  object \n",
      " 2   ST03Q01  485490 non-null  int64  \n",
      " 3   ST03Q02  485490 non-null  int64  \n",
      " 4   ST04Q01  485490 non-null  object \n",
      " 5   ST87Q03  310821 non-null  object \n",
      " 6   ST87Q07  310281 non-null  object \n",
      " 7   IC02Q01  296975 non-null  object \n",
      " 8   AGE      485374 non-null  float64\n",
      " 9   PV1MATH  485490 non-null  float64\n",
      "dtypes: float64(2), int64(2), object(6)\n",
      "memory usage: 37.0+ MB\n"
     ]
    }
   ],
   "source": [
    "pisa_df.info(null_counts = True)"
   ]
  },
  {
   "cell_type": "code",
   "execution_count": 50,
   "metadata": {},
   "outputs": [
    {
     "data": {
      "text/html": [
       "<div>\n",
       "<style scoped>\n",
       "    .dataframe tbody tr th:only-of-type {\n",
       "        vertical-align: middle;\n",
       "    }\n",
       "\n",
       "    .dataframe tbody tr th {\n",
       "        vertical-align: top;\n",
       "    }\n",
       "\n",
       "    .dataframe thead th {\n",
       "        text-align: right;\n",
       "    }\n",
       "</style>\n",
       "<table border=\"1\" class=\"dataframe\">\n",
       "  <thead>\n",
       "    <tr style=\"text-align: right;\">\n",
       "      <th></th>\n",
       "      <th>col_name</th>\n",
       "      <th>x</th>\n",
       "    </tr>\n",
       "  </thead>\n",
       "  <tbody>\n",
       "    <tr>\n",
       "      <th>0</th>\n",
       "      <td>CNT</td>\n",
       "      <td>Country code 3-character</td>\n",
       "    </tr>\n",
       "    <tr>\n",
       "      <th>1</th>\n",
       "      <td>SUBNATIO</td>\n",
       "      <td>Adjudicated sub-region code 7-digit code (3-di...</td>\n",
       "    </tr>\n",
       "    <tr>\n",
       "      <th>2</th>\n",
       "      <td>STRATUM</td>\n",
       "      <td>Stratum ID 7-character (cnt + region ID + orig...</td>\n",
       "    </tr>\n",
       "    <tr>\n",
       "      <th>3</th>\n",
       "      <td>OECD</td>\n",
       "      <td>OECD country</td>\n",
       "    </tr>\n",
       "    <tr>\n",
       "      <th>4</th>\n",
       "      <td>NC</td>\n",
       "      <td>National Centre 6-digit Code</td>\n",
       "    </tr>\n",
       "    <tr>\n",
       "      <th>...</th>\n",
       "      <td>...</td>\n",
       "      <td>...</td>\n",
       "    </tr>\n",
       "    <tr>\n",
       "      <th>630</th>\n",
       "      <td>W_FSTR80</td>\n",
       "      <td>FINAL STUDENT REPLICATE BRR-FAY WEIGHT80</td>\n",
       "    </tr>\n",
       "    <tr>\n",
       "      <th>631</th>\n",
       "      <td>WVARSTRR</td>\n",
       "      <td>RANDOMIZED FINAL VARIANCE STRATUM (1-80)</td>\n",
       "    </tr>\n",
       "    <tr>\n",
       "      <th>632</th>\n",
       "      <td>VAR_UNIT</td>\n",
       "      <td>RANDOMLY ASSIGNED VARIANCE UNIT</td>\n",
       "    </tr>\n",
       "    <tr>\n",
       "      <th>633</th>\n",
       "      <td>SENWGT_STU</td>\n",
       "      <td>Senate weight - sum of weight within the count...</td>\n",
       "    </tr>\n",
       "    <tr>\n",
       "      <th>634</th>\n",
       "      <td>VER_STU</td>\n",
       "      <td>Date of the database creation</td>\n",
       "    </tr>\n",
       "  </tbody>\n",
       "</table>\n",
       "<p>635 rows × 2 columns</p>\n",
       "</div>"
      ],
      "text/plain": [
       "       col_name                                                  x\n",
       "0           CNT                           Country code 3-character\n",
       "1      SUBNATIO  Adjudicated sub-region code 7-digit code (3-di...\n",
       "2       STRATUM  Stratum ID 7-character (cnt + region ID + orig...\n",
       "3          OECD                                       OECD country\n",
       "4            NC                       National Centre 6-digit Code\n",
       "..          ...                                                ...\n",
       "630    W_FSTR80           FINAL STUDENT REPLICATE BRR-FAY WEIGHT80\n",
       "631    WVARSTRR           RANDOMIZED FINAL VARIANCE STRATUM (1-80)\n",
       "632    VAR_UNIT                    RANDOMLY ASSIGNED VARIANCE UNIT\n",
       "633  SENWGT_STU  Senate weight - sum of weight within the count...\n",
       "634     VER_STU                      Date of the database creation\n",
       "\n",
       "[635 rows x 2 columns]"
      ]
     },
     "execution_count": 50,
     "metadata": {},
     "output_type": "execute_result"
    }
   ],
   "source": [
    "# Reading the pisadict files to have more appropiate column names \n",
    "df_pisa_dict = pd.read_csv(\"pisadict2012.csv\", encoding = \"latin-1\")\n",
    "df_pisa_dict.rename(columns = {\"Unnamed: 0\": \"col_name\"}, inplace = True)\n",
    "df_pisa_dict"
   ]
  },
  {
   "cell_type": "code",
   "execution_count": 51,
   "metadata": {},
   "outputs": [
    {
     "data": {
      "text/plain": [
       "{'CNT': 'Country code 3-character',\n",
       " 'OECD': 'OECD country',\n",
       " 'ST03Q01': 'Birth - Month',\n",
       " 'ST03Q02': 'Birth -Year',\n",
       " 'ST04Q01': 'Gender',\n",
       " 'ST87Q03': 'Sense of Belonging - Belong at School',\n",
       " 'ST87Q07': 'Sense of Belonging - Feel Happy at School',\n",
       " 'IC02Q01': 'At school - Desktop Computer',\n",
       " 'AGE': 'Age of student',\n",
       " 'PV1MATH': 'Plausible value 1 in mathematics'}"
      ]
     },
     "execution_count": 51,
     "metadata": {},
     "output_type": "execute_result"
    }
   ],
   "source": [
    "# Creating a dict for the required columns with more sensible names\n",
    "\n",
    "col_dict = {}\n",
    "for col in pisa_df.columns:\n",
    "    if col in list(df_pisa_dict[\"col_name\"]):\n",
    "        col_dict[col] = df_pisa_dict.loc[df_pisa_dict.col_name == col][\"x\"].values[0]\n",
    "col_dict"
   ]
  },
  {
   "cell_type": "code",
   "execution_count": 52,
   "metadata": {},
   "outputs": [
    {
     "data": {
      "text/html": [
       "<div>\n",
       "<style scoped>\n",
       "    .dataframe tbody tr th:only-of-type {\n",
       "        vertical-align: middle;\n",
       "    }\n",
       "\n",
       "    .dataframe tbody tr th {\n",
       "        vertical-align: top;\n",
       "    }\n",
       "\n",
       "    .dataframe thead th {\n",
       "        text-align: right;\n",
       "    }\n",
       "</style>\n",
       "<table border=\"1\" class=\"dataframe\">\n",
       "  <thead>\n",
       "    <tr style=\"text-align: right;\">\n",
       "      <th></th>\n",
       "      <th>Country code 3-character</th>\n",
       "      <th>OECD country</th>\n",
       "      <th>Birth - Month</th>\n",
       "      <th>Birth -Year</th>\n",
       "      <th>Gender</th>\n",
       "      <th>Sense of Belonging - Belong at School</th>\n",
       "      <th>Sense of Belonging - Feel Happy at School</th>\n",
       "      <th>At school - Desktop Computer</th>\n",
       "      <th>Age of student</th>\n",
       "      <th>Plausible value 1 in mathematics</th>\n",
       "    </tr>\n",
       "  </thead>\n",
       "  <tbody>\n",
       "    <tr>\n",
       "      <th>0</th>\n",
       "      <td>Albania</td>\n",
       "      <td>Non-OECD</td>\n",
       "      <td>2</td>\n",
       "      <td>1996</td>\n",
       "      <td>Female</td>\n",
       "      <td>Strongly disagree</td>\n",
       "      <td>Agree</td>\n",
       "      <td>NaN</td>\n",
       "      <td>16.17</td>\n",
       "      <td>406.8469</td>\n",
       "    </tr>\n",
       "    <tr>\n",
       "      <th>1</th>\n",
       "      <td>Albania</td>\n",
       "      <td>Non-OECD</td>\n",
       "      <td>2</td>\n",
       "      <td>1996</td>\n",
       "      <td>Female</td>\n",
       "      <td>NaN</td>\n",
       "      <td>NaN</td>\n",
       "      <td>NaN</td>\n",
       "      <td>16.17</td>\n",
       "      <td>486.1427</td>\n",
       "    </tr>\n",
       "    <tr>\n",
       "      <th>2</th>\n",
       "      <td>Albania</td>\n",
       "      <td>Non-OECD</td>\n",
       "      <td>9</td>\n",
       "      <td>1996</td>\n",
       "      <td>Female</td>\n",
       "      <td>NaN</td>\n",
       "      <td>NaN</td>\n",
       "      <td>NaN</td>\n",
       "      <td>15.58</td>\n",
       "      <td>533.2684</td>\n",
       "    </tr>\n",
       "    <tr>\n",
       "      <th>3</th>\n",
       "      <td>Albania</td>\n",
       "      <td>Non-OECD</td>\n",
       "      <td>8</td>\n",
       "      <td>1996</td>\n",
       "      <td>Female</td>\n",
       "      <td>NaN</td>\n",
       "      <td>NaN</td>\n",
       "      <td>NaN</td>\n",
       "      <td>15.67</td>\n",
       "      <td>412.2215</td>\n",
       "    </tr>\n",
       "    <tr>\n",
       "      <th>4</th>\n",
       "      <td>Albania</td>\n",
       "      <td>Non-OECD</td>\n",
       "      <td>10</td>\n",
       "      <td>1996</td>\n",
       "      <td>Female</td>\n",
       "      <td>Strongly agree</td>\n",
       "      <td>Strongly agree</td>\n",
       "      <td>NaN</td>\n",
       "      <td>15.50</td>\n",
       "      <td>381.9209</td>\n",
       "    </tr>\n",
       "    <tr>\n",
       "      <th>...</th>\n",
       "      <td>...</td>\n",
       "      <td>...</td>\n",
       "      <td>...</td>\n",
       "      <td>...</td>\n",
       "      <td>...</td>\n",
       "      <td>...</td>\n",
       "      <td>...</td>\n",
       "      <td>...</td>\n",
       "      <td>...</td>\n",
       "      <td>...</td>\n",
       "    </tr>\n",
       "    <tr>\n",
       "      <th>485485</th>\n",
       "      <td>Vietnam</td>\n",
       "      <td>Non-OECD</td>\n",
       "      <td>6</td>\n",
       "      <td>1996</td>\n",
       "      <td>Female</td>\n",
       "      <td>NaN</td>\n",
       "      <td>NaN</td>\n",
       "      <td>NaN</td>\n",
       "      <td>15.83</td>\n",
       "      <td>477.1849</td>\n",
       "    </tr>\n",
       "    <tr>\n",
       "      <th>485486</th>\n",
       "      <td>Vietnam</td>\n",
       "      <td>Non-OECD</td>\n",
       "      <td>2</td>\n",
       "      <td>1996</td>\n",
       "      <td>Male</td>\n",
       "      <td>NaN</td>\n",
       "      <td>Disagree</td>\n",
       "      <td>NaN</td>\n",
       "      <td>16.17</td>\n",
       "      <td>518.9360</td>\n",
       "    </tr>\n",
       "    <tr>\n",
       "      <th>485487</th>\n",
       "      <td>Vietnam</td>\n",
       "      <td>Non-OECD</td>\n",
       "      <td>6</td>\n",
       "      <td>1996</td>\n",
       "      <td>Male</td>\n",
       "      <td>Agree</td>\n",
       "      <td>Agree</td>\n",
       "      <td>NaN</td>\n",
       "      <td>15.83</td>\n",
       "      <td>475.2376</td>\n",
       "    </tr>\n",
       "    <tr>\n",
       "      <th>485488</th>\n",
       "      <td>Vietnam</td>\n",
       "      <td>Non-OECD</td>\n",
       "      <td>6</td>\n",
       "      <td>1996</td>\n",
       "      <td>Male</td>\n",
       "      <td>Disagree</td>\n",
       "      <td>Agree</td>\n",
       "      <td>NaN</td>\n",
       "      <td>15.83</td>\n",
       "      <td>550.9503</td>\n",
       "    </tr>\n",
       "    <tr>\n",
       "      <th>485489</th>\n",
       "      <td>Vietnam</td>\n",
       "      <td>Non-OECD</td>\n",
       "      <td>12</td>\n",
       "      <td>1996</td>\n",
       "      <td>Female</td>\n",
       "      <td>NaN</td>\n",
       "      <td>NaN</td>\n",
       "      <td>NaN</td>\n",
       "      <td>15.33</td>\n",
       "      <td>470.0187</td>\n",
       "    </tr>\n",
       "  </tbody>\n",
       "</table>\n",
       "<p>485490 rows × 10 columns</p>\n",
       "</div>"
      ],
      "text/plain": [
       "       Country code 3-character OECD country  Birth - Month  Birth -Year  \\\n",
       "0                       Albania     Non-OECD              2         1996   \n",
       "1                       Albania     Non-OECD              2         1996   \n",
       "2                       Albania     Non-OECD              9         1996   \n",
       "3                       Albania     Non-OECD              8         1996   \n",
       "4                       Albania     Non-OECD             10         1996   \n",
       "...                         ...          ...            ...          ...   \n",
       "485485                  Vietnam     Non-OECD              6         1996   \n",
       "485486                  Vietnam     Non-OECD              2         1996   \n",
       "485487                  Vietnam     Non-OECD              6         1996   \n",
       "485488                  Vietnam     Non-OECD              6         1996   \n",
       "485489                  Vietnam     Non-OECD             12         1996   \n",
       "\n",
       "        Gender Sense of Belonging - Belong at School  \\\n",
       "0       Female                     Strongly disagree   \n",
       "1       Female                                   NaN   \n",
       "2       Female                                   NaN   \n",
       "3       Female                                   NaN   \n",
       "4       Female                        Strongly agree   \n",
       "...        ...                                   ...   \n",
       "485485  Female                                   NaN   \n",
       "485486    Male                                   NaN   \n",
       "485487    Male                                 Agree   \n",
       "485488    Male                              Disagree   \n",
       "485489  Female                                   NaN   \n",
       "\n",
       "       Sense of Belonging - Feel Happy at School At school - Desktop Computer  \\\n",
       "0                                          Agree                          NaN   \n",
       "1                                            NaN                          NaN   \n",
       "2                                            NaN                          NaN   \n",
       "3                                            NaN                          NaN   \n",
       "4                                 Strongly agree                          NaN   \n",
       "...                                          ...                          ...   \n",
       "485485                                       NaN                          NaN   \n",
       "485486                                  Disagree                          NaN   \n",
       "485487                                     Agree                          NaN   \n",
       "485488                                     Agree                          NaN   \n",
       "485489                                       NaN                          NaN   \n",
       "\n",
       "        Age of student  Plausible value 1 in mathematics  \n",
       "0                16.17                          406.8469  \n",
       "1                16.17                          486.1427  \n",
       "2                15.58                          533.2684  \n",
       "3                15.67                          412.2215  \n",
       "4                15.50                          381.9209  \n",
       "...                ...                               ...  \n",
       "485485           15.83                          477.1849  \n",
       "485486           16.17                          518.9360  \n",
       "485487           15.83                          475.2376  \n",
       "485488           15.83                          550.9503  \n",
       "485489           15.33                          470.0187  \n",
       "\n",
       "[485490 rows x 10 columns]"
      ]
     },
     "execution_count": 52,
     "metadata": {},
     "output_type": "execute_result"
    }
   ],
   "source": [
    "pisa_df.rename(columns = col_dict)"
   ]
  },
  {
   "cell_type": "code",
   "execution_count": 53,
   "metadata": {},
   "outputs": [],
   "source": [
    "pisa_df.rename(columns = col_dict, inplace = True)\n",
    "pisa_df.rename(columns=lambda x: x.strip().lower().replace(\" \", \"_\").replace(\"-\", \"\").replace('_code_3character', '').replace('plausible_value_1_in', 'pv1'), inplace = True)\n",
    "\n"
   ]
  },
  {
   "cell_type": "code",
   "execution_count": 54,
   "metadata": {},
   "outputs": [
    {
     "name": "stdout",
     "output_type": "stream",
     "text": [
      "<class 'pandas.core.frame.DataFrame'>\n",
      "RangeIndex: 485490 entries, 0 to 485489\n",
      "Data columns (total 10 columns):\n",
      " #   Column                                    Non-Null Count   Dtype  \n",
      "---  ------                                    --------------   -----  \n",
      " 0   country                                   485490 non-null  object \n",
      " 1   oecd_country                              485490 non-null  object \n",
      " 2   birth__month                              485490 non-null  int64  \n",
      " 3   birth_year                                485490 non-null  int64  \n",
      " 4   gender                                    485490 non-null  object \n",
      " 5   sense_of_belonging__belong_at_school      310821 non-null  object \n",
      " 6   sense_of_belonging__feel_happy_at_school  310281 non-null  object \n",
      " 7   at_school__desktop_computer               296975 non-null  object \n",
      " 8   age_of_student                            485374 non-null  float64\n",
      " 9   pv1_mathematics                           485490 non-null  float64\n",
      "dtypes: float64(2), int64(2), object(6)\n",
      "memory usage: 37.0+ MB\n"
     ]
    }
   ],
   "source": [
    "pisa_df.info(null_counts = True)"
   ]
  },
  {
   "cell_type": "code",
   "execution_count": 55,
   "metadata": {},
   "outputs": [],
   "source": [
    "# Final touch for names\n",
    "pisa_df.rename(columns = {'oecd_country' : 'is_oecd', \"birth__month\" : \"birth_month\",\n",
    "                         \"sense_of_belonging__belong_at_school\" : \"belong_at_school\", \n",
    "                         \"sense_of_belonging__feel_happy_at_school\" : \"feel_happy_at_school\",\n",
    "                         \"at_school__desktop_computer\" : \"computer_at_school\"}, inplace = True)\n",
    "\n"
   ]
  },
  {
   "cell_type": "code",
   "execution_count": 56,
   "metadata": {
    "scrolled": false
   },
   "outputs": [
    {
     "name": "stdout",
     "output_type": "stream",
     "text": [
      "<class 'pandas.core.frame.DataFrame'>\n",
      "RangeIndex: 485490 entries, 0 to 485489\n",
      "Data columns (total 10 columns):\n",
      " #   Column                Non-Null Count   Dtype  \n",
      "---  ------                --------------   -----  \n",
      " 0   country               485490 non-null  object \n",
      " 1   is_oecd               485490 non-null  object \n",
      " 2   birth_month           485490 non-null  int64  \n",
      " 3   birth_year            485490 non-null  int64  \n",
      " 4   gender                485490 non-null  object \n",
      " 5   belong_at_school      310821 non-null  object \n",
      " 6   feel_happy_at_school  310281 non-null  object \n",
      " 7   computer_at_school    296975 non-null  object \n",
      " 8   age_of_student        485374 non-null  float64\n",
      " 9   pv1_mathematics       485490 non-null  float64\n",
      "dtypes: float64(2), int64(2), object(6)\n",
      "memory usage: 37.0+ MB\n"
     ]
    }
   ],
   "source": [
    "pisa_df.info()"
   ]
  },
  {
   "cell_type": "markdown",
   "metadata": {},
   "source": [
    "# Data Cleaning\n",
    "\n"
   ]
  },
  {
   "cell_type": "markdown",
   "metadata": {},
   "source": [
    "<b>Define: </b>Converting `is_oecd` and `gender` columns to categorical data type."
   ]
  },
  {
   "cell_type": "markdown",
   "metadata": {},
   "source": [
    "<b>Code: </b>"
   ]
  },
  {
   "cell_type": "code",
   "execution_count": 57,
   "metadata": {},
   "outputs": [],
   "source": [
    "# Converting for categorical dtypes using astype\n",
    "pisa_df[\"is_oecd\"] = pisa_df[\"is_oecd\"].astype('category')\n",
    "pisa_df['gender'] = pisa_df['gender'].astype('category')\n",
    "\n",
    " "
   ]
  },
  {
   "cell_type": "markdown",
   "metadata": {},
   "source": [
    "<b>Test: </b>"
   ]
  },
  {
   "cell_type": "code",
   "execution_count": 58,
   "metadata": {},
   "outputs": [
    {
     "name": "stdout",
     "output_type": "stream",
     "text": [
      "<class 'pandas.core.frame.DataFrame'>\n",
      "RangeIndex: 485490 entries, 0 to 485489\n",
      "Data columns (total 10 columns):\n",
      " #   Column                Non-Null Count   Dtype   \n",
      "---  ------                --------------   -----   \n",
      " 0   country               485490 non-null  object  \n",
      " 1   is_oecd               485490 non-null  category\n",
      " 2   birth_month           485490 non-null  int64   \n",
      " 3   birth_year            485490 non-null  int64   \n",
      " 4   gender                485490 non-null  category\n",
      " 5   belong_at_school      310821 non-null  object  \n",
      " 6   feel_happy_at_school  310281 non-null  object  \n",
      " 7   computer_at_school    296975 non-null  object  \n",
      " 8   age_of_student        485374 non-null  float64 \n",
      " 9   pv1_mathematics       485490 non-null  float64 \n",
      "dtypes: category(2), float64(2), int64(2), object(4)\n",
      "memory usage: 30.6+ MB\n"
     ]
    }
   ],
   "source": [
    "pisa_df.info()"
   ]
  },
  {
   "cell_type": "markdown",
   "metadata": {},
   "source": [
    "<b>Define:</b> converting columns with ordinal values of Strongly agree, Agree, Disagree, Strongly disagree to cateogrical dtypes"
   ]
  },
  {
   "cell_type": "markdown",
   "metadata": {},
   "source": [
    "<b>Code: </b>"
   ]
  },
  {
   "cell_type": "code",
   "execution_count": 59,
   "metadata": {},
   "outputs": [],
   "source": [
    "# A function that convert to categorical ordinal datatype\n",
    "def ca_conv(df, cols, likert):\n",
    "    for col in cols:\n",
    "        df[col] = df[col].astype(CategoricalDtype(categories = likert))"
   ]
  },
  {
   "cell_type": "code",
   "execution_count": 60,
   "metadata": {},
   "outputs": [],
   "source": [
    "cat_likert = {'Strongly agree' : 4, 'Agree' : 3, 'Disagree' : 2, 'Strongly disagree' : 1}\n",
    "num_likert = [4, 3, 2, 1]\n",
    "\n",
    "# a list that has column names\n",
    "cat_list = [\"belong_at_school\", \"feel_happy_at_school\"]\n",
    "\n",
    "pisa_df.replace([k for k in cat_likert], [cat_likert[k] for k in cat_likert], inplace = True)\n",
    "ca_conv(pisa_df, cat_list, num_likert)\n"
   ]
  },
  {
   "cell_type": "markdown",
   "metadata": {},
   "source": [
    "<b>Test: </b>"
   ]
  },
  {
   "cell_type": "code",
   "execution_count": 61,
   "metadata": {},
   "outputs": [
    {
     "data": {
      "text/html": [
       "<div>\n",
       "<style scoped>\n",
       "    .dataframe tbody tr th:only-of-type {\n",
       "        vertical-align: middle;\n",
       "    }\n",
       "\n",
       "    .dataframe tbody tr th {\n",
       "        vertical-align: top;\n",
       "    }\n",
       "\n",
       "    .dataframe thead th {\n",
       "        text-align: right;\n",
       "    }\n",
       "</style>\n",
       "<table border=\"1\" class=\"dataframe\">\n",
       "  <thead>\n",
       "    <tr style=\"text-align: right;\">\n",
       "      <th></th>\n",
       "      <th>country</th>\n",
       "      <th>is_oecd</th>\n",
       "      <th>birth_month</th>\n",
       "      <th>birth_year</th>\n",
       "      <th>gender</th>\n",
       "      <th>belong_at_school</th>\n",
       "      <th>feel_happy_at_school</th>\n",
       "      <th>computer_at_school</th>\n",
       "      <th>age_of_student</th>\n",
       "      <th>pv1_mathematics</th>\n",
       "    </tr>\n",
       "  </thead>\n",
       "  <tbody>\n",
       "    <tr>\n",
       "      <th>0</th>\n",
       "      <td>Albania</td>\n",
       "      <td>Non-OECD</td>\n",
       "      <td>2</td>\n",
       "      <td>1996</td>\n",
       "      <td>Female</td>\n",
       "      <td>1</td>\n",
       "      <td>3</td>\n",
       "      <td>NaN</td>\n",
       "      <td>16.17</td>\n",
       "      <td>406.8469</td>\n",
       "    </tr>\n",
       "    <tr>\n",
       "      <th>1</th>\n",
       "      <td>Albania</td>\n",
       "      <td>Non-OECD</td>\n",
       "      <td>2</td>\n",
       "      <td>1996</td>\n",
       "      <td>Female</td>\n",
       "      <td>NaN</td>\n",
       "      <td>NaN</td>\n",
       "      <td>NaN</td>\n",
       "      <td>16.17</td>\n",
       "      <td>486.1427</td>\n",
       "    </tr>\n",
       "    <tr>\n",
       "      <th>2</th>\n",
       "      <td>Albania</td>\n",
       "      <td>Non-OECD</td>\n",
       "      <td>9</td>\n",
       "      <td>1996</td>\n",
       "      <td>Female</td>\n",
       "      <td>NaN</td>\n",
       "      <td>NaN</td>\n",
       "      <td>NaN</td>\n",
       "      <td>15.58</td>\n",
       "      <td>533.2684</td>\n",
       "    </tr>\n",
       "    <tr>\n",
       "      <th>3</th>\n",
       "      <td>Albania</td>\n",
       "      <td>Non-OECD</td>\n",
       "      <td>8</td>\n",
       "      <td>1996</td>\n",
       "      <td>Female</td>\n",
       "      <td>NaN</td>\n",
       "      <td>NaN</td>\n",
       "      <td>NaN</td>\n",
       "      <td>15.67</td>\n",
       "      <td>412.2215</td>\n",
       "    </tr>\n",
       "    <tr>\n",
       "      <th>4</th>\n",
       "      <td>Albania</td>\n",
       "      <td>Non-OECD</td>\n",
       "      <td>10</td>\n",
       "      <td>1996</td>\n",
       "      <td>Female</td>\n",
       "      <td>4</td>\n",
       "      <td>4</td>\n",
       "      <td>NaN</td>\n",
       "      <td>15.50</td>\n",
       "      <td>381.9209</td>\n",
       "    </tr>\n",
       "  </tbody>\n",
       "</table>\n",
       "</div>"
      ],
      "text/plain": [
       "   country   is_oecd  birth_month  birth_year  gender belong_at_school  \\\n",
       "0  Albania  Non-OECD            2        1996  Female                1   \n",
       "1  Albania  Non-OECD            2        1996  Female              NaN   \n",
       "2  Albania  Non-OECD            9        1996  Female              NaN   \n",
       "3  Albania  Non-OECD            8        1996  Female              NaN   \n",
       "4  Albania  Non-OECD           10        1996  Female                4   \n",
       "\n",
       "  feel_happy_at_school computer_at_school  age_of_student  pv1_mathematics  \n",
       "0                    3                NaN           16.17         406.8469  \n",
       "1                  NaN                NaN           16.17         486.1427  \n",
       "2                  NaN                NaN           15.58         533.2684  \n",
       "3                  NaN                NaN           15.67         412.2215  \n",
       "4                    4                NaN           15.50         381.9209  "
      ]
     },
     "execution_count": 61,
     "metadata": {},
     "output_type": "execute_result"
    }
   ],
   "source": [
    "pisa_df.head()"
   ]
  },
  {
   "cell_type": "code",
   "execution_count": 62,
   "metadata": {},
   "outputs": [
    {
     "name": "stdout",
     "output_type": "stream",
     "text": [
      "<class 'pandas.core.frame.DataFrame'>\n",
      "RangeIndex: 485490 entries, 0 to 485489\n",
      "Data columns (total 10 columns):\n",
      " #   Column                Non-Null Count   Dtype   \n",
      "---  ------                --------------   -----   \n",
      " 0   country               485490 non-null  object  \n",
      " 1   is_oecd               485490 non-null  category\n",
      " 2   birth_month           485490 non-null  int64   \n",
      " 3   birth_year            485490 non-null  int64   \n",
      " 4   gender                485490 non-null  category\n",
      " 5   belong_at_school      310821 non-null  category\n",
      " 6   feel_happy_at_school  310281 non-null  category\n",
      " 7   computer_at_school    296975 non-null  object  \n",
      " 8   age_of_student        485374 non-null  float64 \n",
      " 9   pv1_mathematics       485490 non-null  float64 \n",
      "dtypes: category(4), float64(2), int64(2), object(2)\n",
      "memory usage: 24.1+ MB\n"
     ]
    }
   ],
   "source": [
    "pisa_df.info()"
   ]
  },
  {
   "cell_type": "markdown",
   "metadata": {},
   "source": [
    "<b>Define: </b>Converting columns with \"Yes, and I use it, Yes, but I dont use it, No\" to cateogoricl dtypes"
   ]
  },
  {
   "cell_type": "markdown",
   "metadata": {},
   "source": [
    "<b>Code:</b>"
   ]
  },
  {
   "cell_type": "code",
   "execution_count": 63,
   "metadata": {},
   "outputs": [],
   "source": [
    "school_likert = [\"Yes, and I use it\", \"Yes, but I dont use it\", \"No\"]\n",
    "school_list = [\"computer_at_school\"]\n",
    "\n",
    "ca_conv(pisa_df, school_list, school_likert)\n"
   ]
  },
  {
   "cell_type": "markdown",
   "metadata": {},
   "source": [
    "<b>Test:</b>"
   ]
  },
  {
   "cell_type": "code",
   "execution_count": 64,
   "metadata": {},
   "outputs": [
    {
     "name": "stdout",
     "output_type": "stream",
     "text": [
      "<class 'pandas.core.frame.DataFrame'>\n",
      "RangeIndex: 485490 entries, 0 to 485489\n",
      "Data columns (total 10 columns):\n",
      " #   Column                Non-Null Count   Dtype   \n",
      "---  ------                --------------   -----   \n",
      " 0   country               485490 non-null  object  \n",
      " 1   is_oecd               485490 non-null  category\n",
      " 2   birth_month           485490 non-null  int64   \n",
      " 3   birth_year            485490 non-null  int64   \n",
      " 4   gender                485490 non-null  category\n",
      " 5   belong_at_school      310821 non-null  category\n",
      " 6   feel_happy_at_school  310281 non-null  category\n",
      " 7   computer_at_school    296975 non-null  category\n",
      " 8   age_of_student        485374 non-null  float64 \n",
      " 9   pv1_mathematics       485490 non-null  float64 \n",
      "dtypes: category(5), float64(2), int64(2), object(1)\n",
      "memory usage: 20.8+ MB\n"
     ]
    }
   ],
   "source": [
    "pisa_df.info()"
   ]
  },
  {
   "cell_type": "markdown",
   "metadata": {},
   "source": [
    "<b>Define: </b>Fixing the value of `Yes, but I dont use it` to `Yes, but I don't use it` at the `computer_at_school` column."
   ]
  },
  {
   "cell_type": "markdown",
   "metadata": {},
   "source": [
    "<b>Code: </b>"
   ]
  },
  {
   "cell_type": "code",
   "execution_count": 65,
   "metadata": {},
   "outputs": [],
   "source": [
    "pisa_df[\"computer_at_school\"].replace(\"Yes, but I dont use it\", \"Yes, but I don't use it\", inplace = True)\n"
   ]
  },
  {
   "cell_type": "markdown",
   "metadata": {},
   "source": [
    "<b>Test: </b>"
   ]
  },
  {
   "cell_type": "code",
   "execution_count": 66,
   "metadata": {},
   "outputs": [
    {
     "data": {
      "text/plain": [
       "[NaN, Yes, but I don't use it, No, Yes, and I use it]\n",
       "Categories (3, object): [Yes, but I don't use it, No, Yes, and I use it]"
      ]
     },
     "execution_count": 66,
     "metadata": {},
     "output_type": "execute_result"
    }
   ],
   "source": [
    "pisa_df[\"computer_at_school\"].unique()"
   ]
  },
  {
   "cell_type": "markdown",
   "metadata": {},
   "source": [
    "<b>Define: </b> Changing values of computer_at_school to Yes and No only "
   ]
  },
  {
   "cell_type": "markdown",
   "metadata": {},
   "source": [
    "<b>Code: </b>"
   ]
  },
  {
   "cell_type": "code",
   "execution_count": 67,
   "metadata": {},
   "outputs": [],
   "source": [
    "pisa_df[\"computer_at_school\"].replace(\"Yes, but I don't use it\",\n",
    "                                                    \"Yes\", inplace = True)\n",
    "pisa_df[\"computer_at_school\"].replace(\"Yes, and I use it\", \"Yes\",\n",
    "                                          inplace = True)"
   ]
  },
  {
   "cell_type": "markdown",
   "metadata": {},
   "source": [
    "<b>Test: </b>"
   ]
  },
  {
   "cell_type": "code",
   "execution_count": 68,
   "metadata": {},
   "outputs": [
    {
     "data": {
      "text/plain": [
       "[NaN, Yes, No]\n",
       "Categories (2, object): [Yes, No]"
      ]
     },
     "execution_count": 68,
     "metadata": {},
     "output_type": "execute_result"
    }
   ],
   "source": [
    "pisa_df[\"computer_at_school\"].unique()"
   ]
  },
  {
   "cell_type": "markdown",
   "metadata": {},
   "source": [
    "<b>Define: </b>Dropping null values from the dataset"
   ]
  },
  {
   "cell_type": "markdown",
   "metadata": {},
   "source": [
    "<b>Code: </b>"
   ]
  },
  {
   "cell_type": "code",
   "execution_count": 69,
   "metadata": {},
   "outputs": [],
   "source": [
    "pisa_df.dropna(inplace = True)"
   ]
  },
  {
   "cell_type": "markdown",
   "metadata": {},
   "source": [
    "<b>Test: </b>"
   ]
  },
  {
   "cell_type": "code",
   "execution_count": 70,
   "metadata": {},
   "outputs": [
    {
     "data": {
      "text/plain": [
       "country                 0\n",
       "is_oecd                 0\n",
       "birth_month             0\n",
       "birth_year              0\n",
       "gender                  0\n",
       "belong_at_school        0\n",
       "feel_happy_at_school    0\n",
       "computer_at_school      0\n",
       "age_of_student          0\n",
       "pv1_mathematics         0\n",
       "dtype: int64"
      ]
     },
     "execution_count": 70,
     "metadata": {},
     "output_type": "execute_result"
    }
   ],
   "source": [
    "pisa_df.isna().sum()"
   ]
  },
  {
   "cell_type": "code",
   "execution_count": 71,
   "metadata": {},
   "outputs": [
    {
     "name": "stdout",
     "output_type": "stream",
     "text": [
      "<class 'pandas.core.frame.DataFrame'>\n",
      "Int64Index: 194082 entries, 22151 to 475551\n",
      "Data columns (total 10 columns):\n",
      " #   Column                Non-Null Count   Dtype   \n",
      "---  ------                --------------   -----   \n",
      " 0   country               194082 non-null  object  \n",
      " 1   is_oecd               194082 non-null  category\n",
      " 2   birth_month           194082 non-null  int64   \n",
      " 3   birth_year            194082 non-null  int64   \n",
      " 4   gender                194082 non-null  category\n",
      " 5   belong_at_school      194082 non-null  category\n",
      " 6   feel_happy_at_school  194082 non-null  category\n",
      " 7   computer_at_school    194082 non-null  category\n",
      " 8   age_of_student        194082 non-null  float64 \n",
      " 9   pv1_mathematics       194082 non-null  float64 \n",
      "dtypes: category(5), float64(2), int64(2), object(1)\n",
      "memory usage: 9.8+ MB\n"
     ]
    }
   ],
   "source": [
    "pisa_df.info()"
   ]
  },
  {
   "cell_type": "markdown",
   "metadata": {},
   "source": [
    "Now, the data is clean with the appropriate data types, readable column names, and without null values."
   ]
  },
  {
   "cell_type": "markdown",
   "metadata": {},
   "source": [
    "# Stroing Data:"
   ]
  },
  {
   "cell_type": "code",
   "execution_count": 72,
   "metadata": {},
   "outputs": [],
   "source": [
    "pisa_df.to_csv(\"pisa_data_cleaned.csv\", index = False)"
   ]
  },
  {
   "cell_type": "markdown",
   "metadata": {},
   "source": [
    "# Data Analysis"
   ]
  },
  {
   "cell_type": "markdown",
   "metadata": {},
   "source": [
    "<b>What is the structure of your dataset?</b>\n",
    "\n",
    "There are 194082 entries in the dataset with 9 features(country, is_oecd, birth_month, birth_year,gender, belong_at_school, feel_happy_at_school, computer_at_school, age_of_student) and one target varible which is pv1_mathematics. \n",
    "\n",
    "1. The `country` column has string values of all countries participated in the exam.\n",
    "\n",
    "\n",
    "2. The `is_oecd` column has categorical values whether the country is part of the OECD countries or not. Read more [here](https://www.oecd.org/about/members-and-partners/).\n",
    "   \n",
    "\n",
    "3. `birth_month` and `birth_year` columns have integer values of the month and the year when the student was born.\n",
    "\n",
    "\n",
    "4. `gender` is a categorical variable the points to the student’s gender with two values, whether male or female.\n",
    "\n",
    "\n",
    "5. `belong_at_school` and `feel_happy_at_school` had categorical ordered values with the following levels.\n",
    "    Best to worst\n",
    "    Strongly Agree, Agree, Disagree, Strongly Disagree. \n",
    "    But I converted it into easier representations as following.\n",
    "    \n",
    "    4, 3, 2, 1 (The numbers correspond to values in order)\n",
    "    \n",
    "\n",
    "6. `computer_at_school` is a categorical variable that has three values as following.\n",
    "    \"Yes, and I use it, \"Yes, but I don’t use it, No\"\n",
    "\n",
    "    For my analysis, I only used two values, \"yes or no\". \n",
    "    \n",
    "\n",
    "7. `age_of_student` A numerical float varibles that points to the age of the student.\n",
    "\n",
    "\n",
    "<b>What are the main features of interest in the dataset?</b>\n",
    "\n",
    "I was interested to know which variables are influencing the student's academic performance.\n",
    "\n",
    "\n",
    "<b>What features in the dataset do you think will help support your investigation into your feature(s) of interest?</b>\n",
    "\n",
    "I expect that gender is not affecting academic performance and countries may play a role in helping students getting better or worse grades. Also, I expect that having computers at schools helps students to achieve higher grades. Additionally, I expect that if the schools helping students to feel that they belong to it and also helped them to feel happy at it, this would help students achieve higher grades.\n"
   ]
  },
  {
   "cell_type": "code",
   "execution_count": 73,
   "metadata": {},
   "outputs": [],
   "source": [
    "base_color = sns.color_palette()[0]"
   ]
  },
  {
   "cell_type": "code",
   "execution_count": 74,
   "metadata": {},
   "outputs": [
    {
     "data": {
      "text/plain": [
       "count    194082.000000\n",
       "mean        492.177003\n",
       "std          98.956683\n",
       "min          98.231800\n",
       "25%         421.257200\n",
       "50%         489.336300\n",
       "75%         560.375400\n",
       "max         962.229300\n",
       "Name: pv1_mathematics, dtype: float64"
      ]
     },
     "execution_count": 74,
     "metadata": {},
     "output_type": "execute_result"
    }
   ],
   "source": [
    "pisa_df[\"pv1_mathematics\"].describe()"
   ]
  },
  {
   "cell_type": "code",
   "execution_count": 75,
   "metadata": {},
   "outputs": [
    {
     "data": {
      "image/png": "[encoded data removed]",
      "text/plain": [
       "<Figure size 432x288 with 1 Axes>"
      ]
     },
     "metadata": {
      "needs_background": "light"
     },
     "output_type": "display_data"
    }
   ],
   "source": [
    "bins = np.arange(150,pisa_df[\"pv1_mathematics\"].max() + 26, 25)\n",
    "plt.hist(pisa_df[\"pv1_mathematics\"], bins = bins)\n",
    "plt.xlabel(\"PV1 Mathematics\", fontsize = 12)\n",
    "plt.title(\"Distribution of Math Scores\", fontweight = \"bold\");"
   ]
  },
  {
   "cell_type": "markdown",
   "metadata": {},
   "source": [
    "Most students score between 400 and 600 out of 1000. The mean for their scores is around 500. "
   ]
  },
  {
   "cell_type": "markdown",
   "metadata": {},
   "source": [
    "Which country has the most students?"
   ]
  },
  {
   "cell_type": "code",
   "execution_count": 76,
   "metadata": {},
   "outputs": [
    {
     "data": {
      "image/png": "[encoded data removed]",
      "text/plain": [
       "<Figure size 432x288 with 1 Axes>"
      ]
     },
     "metadata": {
      "needs_background": "light"
     },
     "output_type": "display_data"
    }
   ],
   "source": [
    "# using counplot to get the number of students per country\n",
    "country_order = pisa_df[\"country\"].value_counts().iloc[:15].index\n",
    "sns.countplot(y = \"country\", data = pisa_df, color = base_color, order = country_order)\n",
    "plt.ylabel(\"Country\", fontsize = 12)\n",
    "plt.title(\"Countries with the Most Students\", fontweight = \"bold\");"
   ]
  },
  {
   "cell_type": "markdown",
   "metadata": {},
   "source": [
    "Mexico city is the most frequent city for students who took the PISA test. "
   ]
  },
  {
   "cell_type": "code",
   "execution_count": 77,
   "metadata": {},
   "outputs": [
    {
     "data": {
      "text/plain": [
       "Index(['Mexico', 'Italy', 'Spain', 'Australia', 'Switzerland', 'Finland',\n",
       "       'Belgium', 'Chile', 'Denmark', 'Jordan', 'Japan', 'Chinese Taipei',\n",
       "       'Portugal', 'Slovenia', 'Singapore'],\n",
       "      dtype='object')"
      ]
     },
     "execution_count": 77,
     "metadata": {},
     "output_type": "execute_result"
    }
   ],
   "source": [
    "country_order"
   ]
  },
  {
   "cell_type": "code",
   "execution_count": 78,
   "metadata": {},
   "outputs": [
    {
     "data": {
      "image/png": "[encoded data removed]",
      "text/plain": [
       "<Figure size 360x360 with 1 Axes>"
      ]
     },
     "metadata": {
      "needs_background": "light"
     },
     "output_type": "display_data"
    }
   ],
   "source": [
    "# Checking maths scores frequency per country\n",
    "country_index = pisa_df.groupby('country')[\"pv1_mathematics\"].mean()\n",
    "country_order = country_index.sort_values(ascending = False).iloc[:10].index\n",
    "sns.catplot(x = \"pv1_mathematics\", y = \"country\", data = pisa_df,\n",
    "            color = base_color, order = country_order)\n",
    "plt.ylabel(\"Country\", fontsize = 12)\n",
    "plt.xlabel(\"PV1 Mathematics\", fontsize = 12)\n",
    "plt.title(\"Countries with the Best Scores\", fontweight = \"bold\");\n"
   ]
  },
  {
   "cell_type": "markdown",
   "metadata": {},
   "source": [
    "China-Shanghai has the most students who have the best scores."
   ]
  },
  {
   "cell_type": "markdown",
   "metadata": {},
   "source": [
    "Checking countries that have the most students who scored more than the meaan of the whole dataset."
   ]
  },
  {
   "cell_type": "code",
   "execution_count": 79,
   "metadata": {},
   "outputs": [
    {
     "data": {
      "image/png": "[encoded data removed]",
      "text/plain": [
       "<Figure size 360x360 with 1 Axes>"
      ]
     },
     "metadata": {
      "needs_background": "light"
     },
     "output_type": "display_data"
    }
   ],
   "source": [
    "# Let's check students who got more than or equal to the average math score\n",
    "avg_students_math = pisa_df.query('pv1_mathematics >= pv1_mathematics.mean()')\n",
    "\n",
    "country_index = avg_students_math.groupby('country')[\"pv1_mathematics\"].mean()\n",
    "country_order = country_index.sort_values(ascending = False).iloc[:10].index\n",
    "sns.catplot(x = \"pv1_mathematics\", y = \"country\", data = avg_students_math,\n",
    "            color = base_color, order = country_order)\n",
    "plt.ylabel(\"Country\", fontsize = 12)\n",
    "plt.xlabel(\"PV1 Mathematics\", fontsize = 12)\n",
    "plt.title(\"Countries with the Most Students Scoring More than the Mean\", fontweight = \"bold\");\n",
    "\n"
   ]
  },
  {
   "cell_type": "markdown",
   "metadata": {},
   "source": [
    "China-Shanghai is still on the top which proves our previous findings that students from these countries are scoring the best. However, Germany is not on the list of the top 10 countries achieving more than the mean."
   ]
  },
  {
   "cell_type": "markdown",
   "metadata": {},
   "source": [
    "Countries with the lowest scores"
   ]
  },
  {
   "cell_type": "code",
   "execution_count": 80,
   "metadata": {},
   "outputs": [
    {
     "data": {
      "image/png": "[encoded data removed]",
      "text/plain": [
       "<Figure size 360x360 with 1 Axes>"
      ]
     },
     "metadata": {
      "needs_background": "light"
     },
     "output_type": "display_data"
    }
   ],
   "source": [
    "# checking countries with the lowest scorees\n",
    "country_index = pisa_df.groupby('country')[\"pv1_mathematics\"].mean()\n",
    "country_order = country_index.sort_values(ascending = True).iloc[:10].index\n",
    "sns.catplot(x = \"pv1_mathematics\", y = \"country\", data = pisa_df,\n",
    "            color = base_color, order = country_order)\n",
    "plt.ylabel(\"Country\", fontsize = 12)\n",
    "plt.xlabel(\"PV1 Mathematics\", fontsize = 12)\n",
    "plt.title(\"Countries with the Lowest Scores\", fontweight = \"bold\");"
   ]
  },
  {
   "cell_type": "markdown",
   "metadata": {},
   "source": [
    "These countries have the lowest scores but they still have students that are scoring more than 600 and 700 in some countries"
   ]
  },
  {
   "cell_type": "markdown",
   "metadata": {},
   "source": [
    "Checking countries that have the most students who scored less than the mean of the whole dataset."
   ]
  },
  {
   "cell_type": "code",
   "execution_count": 81,
   "metadata": {},
   "outputs": [
    {
     "data": {
      "image/png": "[encoded data removed]",
      "text/plain": [
       "<Figure size 360x360 with 1 Axes>"
      ]
     },
     "metadata": {
      "needs_background": "light"
     },
     "output_type": "display_data"
    }
   ],
   "source": [
    "less_avg_students_math = pisa_df.query('pv1_mathematics < pv1_mathematics.mean()')\n",
    "\n",
    "country_index = less_avg_students_math.groupby('country')[\"pv1_mathematics\"].mean()\n",
    "country_order = country_index.sort_values(ascending = True).iloc[:10].index\n",
    "sns.catplot(x = \"pv1_mathematics\", y = \"country\", data = less_avg_students_math,\n",
    "            color = base_color, order = country_order)\n",
    "plt.ylabel(\"Country\", fontsize = 12)\n",
    "plt.xlabel(\"PV1 Mathematics\", fontsize = 12)\n",
    "plt.title(\"Countries with the Most Students Scoring less than the Mean\", fontweight = \"bold\");\n"
   ]
  },
  {
   "cell_type": "markdown",
   "metadata": {},
   "source": [
    "Jordan is still scoring the lowest for the average Math scores followed by Costa Rica and Uruguay"
   ]
  },
  {
   "cell_type": "markdown",
   "metadata": {},
   "source": [
    "<b>Gender</b>"
   ]
  },
  {
   "cell_type": "code",
   "execution_count": 82,
   "metadata": {},
   "outputs": [
    {
     "data": {
      "image/png": "[encoded data removed]",
      "text/plain": [
       "<Figure size 432x288 with 1 Axes>"
      ]
     },
     "metadata": {},
     "output_type": "display_data"
    }
   ],
   "source": [
    "# checking the female to male ratio using matplotlib\n",
    "labels = pisa_df[\"gender\"].unique()\n",
    "sizes = list(pisa_df[\"gender\"].value_counts())\n",
    "explode = (0.1, 0) \n",
    "\n",
    "fig, ax = plt.subplots()\n",
    "ax.pie(sizes, explode = explode, labels = labels, autopct='%1.1f%%',\n",
    "        shadow = True, startangle = 90)\n",
    "ax.axis('equal')\n",
    "ax.set_title(\"Female to Male Ratio of Students Who Took the Test\", fontweight = \"bold\")\n",
    "\n",
    "plt.show()"
   ]
  },
  {
   "cell_type": "markdown",
   "metadata": {},
   "source": [
    "Females are more than males in the dataset, but there is not a big difference between both of them."
   ]
  },
  {
   "cell_type": "code",
   "execution_count": 83,
   "metadata": {},
   "outputs": [
    {
     "data": {
      "image/png": "[encoded data removed]",
      "text/plain": [
       "<Figure size 432x288 with 1 Axes>"
      ]
     },
     "metadata": {
      "needs_background": "light"
     },
     "output_type": "display_data"
    }
   ],
   "source": [
    "# Checking the difference between the scores of males and females using boxplot\n",
    "sns.boxplot(x = \"gender\", y = \"pv1_mathematics\", data = pisa_df)\n",
    "plt.title(\"Mathematics Scores per Gender\", fontweight = \"bold\")\n",
    "plt.xlabel(\"Gender\", fontsize = 12)\n",
    "plt.ylabel(\"PV1 Mathematics\");"
   ]
  },
  {
   "cell_type": "markdown",
   "metadata": {},
   "source": [
    "Females’ and males’ scores are not so different from each other. Both of them are approximately in the same interquartile range between 400 and 600."
   ]
  },
  {
   "cell_type": "markdown",
   "metadata": {},
   "source": [
    "Let's check for the best and the worst country based on gender."
   ]
  },
  {
   "cell_type": "code",
   "execution_count": 84,
   "metadata": {},
   "outputs": [
    {
     "data": {
      "image/png": "[encoded data removed]",
      "text/plain": [
       "<Figure size 432x288 with 1 Axes>"
      ]
     },
     "metadata": {
      "needs_background": "light"
     },
     "output_type": "display_data"
    }
   ],
   "source": [
    "# Checking the difference between the scores of males and females in China-Shanghai using boxplot\n",
    "China_Shanghai_df = pisa_df.query(\"country == 'China-Shanghai'\")\n",
    "sns.boxplot(x = \"gender\", y = \"pv1_mathematics\", data = China_Shanghai_df)\n",
    "\n",
    "plt.title(\"Mathematics Scores per Gender in China-Shanghai\", fontweight = \"bold\")\n",
    "plt.xlabel(\"Gender\", fontsize = 12)\n",
    "plt.ylabel(\"PV1 Mathematics\");"
   ]
  },
  {
   "cell_type": "code",
   "execution_count": 85,
   "metadata": {},
   "outputs": [
    {
     "data": {
      "image/png": "[encoded data removed]",
      "text/plain": [
       "<Figure size 432x288 with 1 Axes>"
      ]
     },
     "metadata": {
      "needs_background": "light"
     },
     "output_type": "display_data"
    }
   ],
   "source": [
    "# Checking the difference between the scores of males and females in Jordan using boxplot\n",
    "\n",
    "jordan_df = pisa_df.query(\"country == 'Jordan'\")\n",
    "sns.boxplot(x = \"gender\", y = \"pv1_mathematics\", data = jordan_df)\n",
    "plt.title(\"Mathematics Scores per Gender in Jordan\", fontweight = \"bold\")\n",
    "plt.xlabel(\"Gender\", fontsize = 12)\n",
    "plt.ylabel(\"PV1 Mathematics\");"
   ]
  },
  {
   "cell_type": "markdown",
   "metadata": {},
   "source": [
    "For both countries, there is not a big difference between the two genders, and that is would give us an insight that gender is not correlated to academic performance."
   ]
  },
  {
   "cell_type": "markdown",
   "metadata": {},
   "source": [
    "<b>is_oecd</b>"
   ]
  },
  {
   "cell_type": "code",
   "execution_count": 86,
   "metadata": {},
   "outputs": [
    {
     "data": {
      "image/png": "[encoded data removed]",
      "text/plain": [
       "<Figure size 432x288 with 1 Axes>"
      ]
     },
     "metadata": {
      "needs_background": "light"
     },
     "output_type": "display_data"
    }
   ],
   "source": [
    "# Checking the number of students that are living in OECD countries\n",
    "is_oecd_count = pisa_df[\"is_oecd\"].value_counts()\n",
    "is_oecd_order = is_oecd_count.index\n",
    "\n",
    "sns.countplot(x = 'is_oecd', data = pisa_df, order = is_oecd_order)\n",
    "plt.xlabel(\"Is OECD\", fontsize = 12)\n",
    "plt.ylabel('Count', fontsize = 12)\n",
    "plt.title(\"Number of Students per OECD and Non-OECD Countries\", fontweight = 'bold');"
   ]
  },
  {
   "cell_type": "markdown",
   "metadata": {},
   "source": [
    "There are more students from OECD countries who took the PISA test than students from non-OECD."
   ]
  },
  {
   "cell_type": "code",
   "execution_count": 87,
   "metadata": {
    "scrolled": true
   },
   "outputs": [
    {
     "data": {
      "image/png": "[encoded data removed]",
      "text/plain": [
       "<Figure size 432x288 with 1 Axes>"
      ]
     },
     "metadata": {
      "needs_background": "light"
     },
     "output_type": "display_data"
    }
   ],
   "source": [
    "sns.violinplot(data = pisa_df, x = 'is_oecd', y = 'pv1_mathematics',\n",
    "               inner = 'quartile')\n",
    "\n",
    "plt.xlabel(\"Is OECD\", fontsize = 12)\n",
    "plt.ylabel('PV1 Mathematics', fontsize = 12)\n",
    "plt.title(\"Students' Scores per OECD and Non-OECD Countries\", fontweight = 'bold');\n"
   ]
  },
  {
   "cell_type": "markdown",
   "metadata": {},
   "source": [
    "Based on the graph, there is a higher probability for OECD students to achieve better scores than the Non-OECD countries."
   ]
  },
  {
   "cell_type": "markdown",
   "metadata": {},
   "source": [
    "<b> Gedner | OECD | pv1-mathematics</b>"
   ]
  },
  {
   "cell_type": "code",
   "execution_count": 88,
   "metadata": {},
   "outputs": [
    {
     "data": {
      "text/plain": [
       "''"
      ]
     },
     "execution_count": 88,
     "metadata": {},
     "output_type": "execute_result"
    },
    {
     "data": {
      "image/png": "[encoded data removed]",
      "text/plain": [
       "<Figure size 576x288 with 2 Axes>"
      ]
     },
     "metadata": {
      "needs_background": "light"
     },
     "output_type": "display_data"
    }
   ],
   "source": [
    "ax = sns.FacetGrid(data = pisa_df, col = 'is_oecd', size = 4)\n",
    "ax.map(sns.violinplot, 'gender', 'pv1_mathematics', inner = \"quartile\")\n",
    "\n",
    "#ax.set_title(\"Mathematics Scores per Gender for OECD and Non_OECD Countries\")\n",
    "ax.set_xlabels(\"Gender\", fontsize = 12)\n",
    "ax.set_ylabels(\"PV1 Mathematics\", fontsize = 12)\n",
    ";\n"
   ]
  },
  {
   "cell_type": "markdown",
   "metadata": {},
   "source": [
    "The width of sections for both genders is extremely alike each other for both OECD and Non_OECD countries. But the difference between mathematics scores is much clearer between countries type whether it is OECD or not. Therefore, the conclusion is that academic performance doesn't depend on gender, it is more about the county or to be more accurate in the education system of the country."
   ]
  },
  {
   "cell_type": "markdown",
   "metadata": {},
   "source": [
    "<b>Belong at school</b>"
   ]
  },
  {
   "cell_type": "code",
   "execution_count": 89,
   "metadata": {},
   "outputs": [
    {
     "data": {
      "image/png": "[encoded data removed]",
      "text/plain": [
       "<Figure size 432x288 with 1 Axes>"
      ]
     },
     "metadata": {
      "needs_background": "light"
     },
     "output_type": "display_data"
    }
   ],
   "source": [
    "belong_school_count = pisa_df[\"belong_at_school\"].value_counts()\n",
    "belong_school_index = belong_school_count.index\n",
    "\n",
    "n_students = float(len(pisa_df))\n",
    "ax = sns.countplot(x = 'belong_at_school', data = pisa_df, color = base_color,\n",
    "              order = belong_school_index)\n",
    "for p in ax.patches:\n",
    "    height = p.get_height()\n",
    "    ax.text(p.get_x() + p.get_width()/2.,\n",
    "            height + 3,\n",
    "            '{:1.2f}'.format(height/n_students),\n",
    "            ha=\"center\");"
   ]
  },
  {
   "cell_type": "markdown",
   "metadata": {},
   "source": [
    "There are more students agree that they feel of belonging to the school. By adding agree and strongly agree together, we see that more than 83% have that feeling."
   ]
  },
  {
   "cell_type": "markdown",
   "metadata": {},
   "source": [
    "<b>Feel happy at school</b>"
   ]
  },
  {
   "cell_type": "code",
   "execution_count": 90,
   "metadata": {},
   "outputs": [
    {
     "data": {
      "image/png": "[encoded data removed]",
      "text/plain": [
       "<Figure size 432x288 with 1 Axes>"
      ]
     },
     "metadata": {
      "needs_background": "light"
     },
     "output_type": "display_data"
    }
   ],
   "source": [
    "happy_school_count = pisa_df[\"feel_happy_at_school\"].value_counts()\n",
    "happy_school_index = happy_school_count.index\n",
    "\n",
    "n_students = float(len(pisa_df))\n",
    "ax = sns.countplot(x = 'feel_happy_at_school', data = pisa_df, color = base_color,\n",
    "              order = happy_school_index)\n",
    "for p in ax.patches:\n",
    "    height = p.get_height()\n",
    "    ax.text(p.get_x() + p.get_width()/2.,\n",
    "            height + 3,\n",
    "            '{:1.2f}'.format(height/n_students),\n",
    "            ha=\"center\");"
   ]
  },
  {
   "cell_type": "markdown",
   "metadata": {},
   "source": [
    "There are more students agree that they feel of being happy at the school. By adding agree and strongly agree together, we see that more than 80% have that feeling."
   ]
  },
  {
   "cell_type": "code",
   "execution_count": 91,
   "metadata": {},
   "outputs": [
    {
     "data": {
      "image/png": "[encoded data removed]",
      "text/plain": [
       "<Figure size 432x288 with 2 Axes>"
      ]
     },
     "metadata": {
      "needs_background": "light"
     },
     "output_type": "display_data"
    }
   ],
   "source": [
    "school_att = pisa_df.groupby(['feel_happy_at_school', \"belong_at_school\"])[\"pv1_mathematics\"].mean().reset_index()\n",
    "school_att = school_att.pivot(\"belong_at_school\", \"feel_happy_at_school\",\"pv1_mathematics\")\n",
    "ax = sns.heatmap(school_att)\n",
    "plt.xlabel('Feel Happy at School', fontsize = 12)\n",
    "plt.ylabel('Belong at School', fontsize = 12)\n",
    "plt.title(\"Comparing Students' feelings at school to the means of their Scores\",\n",
    "          fontweight = 'bold');"
   ]
  },
  {
   "cell_type": "markdown",
   "metadata": {},
   "source": [
    "Schools that help students to feel belonging to it and who make students feel happier, makes student achieve higher grades."
   ]
  },
  {
   "cell_type": "markdown",
   "metadata": {},
   "source": [
    "<b>Computer at school</b>"
   ]
  },
  {
   "cell_type": "markdown",
   "metadata": {},
   "source": [
    "There are two condtions for the data to have a computer at school, the first one is `Yes, and I use it` and the second one is `Yes, but I don't use it`. We ony care about whether the school have a computer or not. Therefore, I will edit the dataset to have two answers only: `Yes` or `No`."
   ]
  },
  {
   "cell_type": "code",
   "execution_count": 92,
   "metadata": {},
   "outputs": [
    {
     "data": {
      "image/png": "[encoded data removed]",
      "text/plain": [
       "<Figure size 432x288 with 1 Axes>"
      ]
     },
     "metadata": {
      "needs_background": "light"
     },
     "output_type": "display_data"
    }
   ],
   "source": [
    "sns.countplot(x = 'computer_at_school', data = pisa_df,\n",
    "              color = base_color)\n",
    "plt.xlabel(\"Computer at School\", fontsize = 12)\n",
    "plt.ylabel(\"Count\", fontsize = 12)\n",
    "plt.title(\"Number of Students that Had Computers in their Schools\", fontweight = \"bold\");"
   ]
  },
  {
   "cell_type": "markdown",
   "metadata": {},
   "source": [
    "Most schools have computers."
   ]
  },
  {
   "cell_type": "code",
   "execution_count": 93,
   "metadata": {},
   "outputs": [
    {
     "data": {
      "image/png": "[encoded data removed]",
      "text/plain": [
       "<Figure size 432x288 with 1 Axes>"
      ]
     },
     "metadata": {
      "needs_background": "light"
     },
     "output_type": "display_data"
    }
   ],
   "source": [
    "# Checking which schools has more computers, the one in the OECDs or in the Non-OECDs\n",
    "com_count = pisa_df.groupby('computer_at_school').size()\n",
    "com_order = com_count.index\n",
    "\n",
    "sns.countplot(data = pisa_df, x = \"computer_at_school\",\n",
    "              hue = \"is_oecd\", order = com_order)\n",
    "\n",
    "plt.xlabel(\"Computer at School\", fontsize = 12)\n",
    "plt.ylabel(\"Count\", fontsize = 12)\n",
    "plt.title(\"Number of Students that Had Computers in their Schools per OCED and Non-OECD countries\"\n",
    "          , fontweight = \"bold\");"
   ]
  },
  {
   "cell_type": "markdown",
   "metadata": {},
   "source": [
    "OECD countries have more computers in their schools than non-oecd ones"
   ]
  },
  {
   "cell_type": "code",
   "execution_count": 94,
   "metadata": {},
   "outputs": [
    {
     "data": {
      "image/png": "[encoded data removed]",
      "text/plain": [
       "<Figure size 432x288 with 1 Axes>"
      ]
     },
     "metadata": {
      "needs_background": "light"
     },
     "output_type": "display_data"
    }
   ],
   "source": [
    "# Creating a dataframe of students who scored greater than the mean\n",
    "greater_mean_df_math = pisa_df.query(\"pv1_mathematics >= pv1_mathematics.mean()\")\n",
    "\n",
    "sns.countplot(data = greater_mean_df_math, x = 'computer_at_school')\n",
    "plt.title(\"Number of Students that has Computers at their schools who got higher or equal to the mean score in math\".title(), \n",
    "           fontweight = \"bold\")\n",
    "plt.xlabel(\"Computer at School\")\n",
    "plt.ylabel(\"No. of students\");\n"
   ]
  },
  {
   "cell_type": "markdown",
   "metadata": {},
   "source": [
    "The plot shows a significant difference between students' academic performance, who had computers at their schools, and those who have not. Therefore, we can say that students who chose schools that have computers have a higher chance of achieving better grades."
   ]
  },
  {
   "cell_type": "code",
   "execution_count": 95,
   "metadata": {
    "scrolled": false
   },
   "outputs": [
    {
     "data": {
      "image/png": "[encoded data removed]",
      "text/plain": [
       "<Figure size 648x432 with 6 Axes>"
      ]
     },
     "metadata": {
      "needs_background": "light"
     },
     "output_type": "display_data"
    }
   ],
   "source": [
    "top_countries_df = pisa_df.query('country == [\"China-Shanghai\", \"Singapore\", \"Hong Kong-China\", \"Chinese Taipei\", \"Korea\", \"Liechtenstein\"]')\n",
    "\n",
    "ax = sns.FacetGrid(data = top_countries_df, col = 'country', col_wrap = 3, size = 3)\n",
    "ax.map(sns.violinplot, 'computer_at_school', 'pv1_mathematics', \n",
    "       inner = \"quartile\")\n",
    "\n",
    "ax.set_xlabels(\"Computer at School\", fontsize = 12)\n",
    "ax.set_ylabels(\"PV1 Mathematics\", fontsize = 12);"
   ]
  },
  {
   "cell_type": "markdown",
   "metadata": {},
   "source": [
    "The more computers these schools have, the better grades students can achieve. However, some students of these countries achieved high gardes although they did not have computers at their schools."
   ]
  },
  {
   "cell_type": "code",
   "execution_count": 96,
   "metadata": {},
   "outputs": [
    {
     "data": {
      "image/png": "[encoded data removed]",
      "text/plain": [
       "<Figure size 648x432 with 6 Axes>"
      ]
     },
     "metadata": {
      "needs_background": "light"
     },
     "output_type": "display_data"
    }
   ],
   "source": [
    "lowest_countries_df = pisa_df.query('country == [\"Jordan\", \"Costa Rica\", \"Uruguay\", \"Mexico\", \"Chile\", \"Turkey\"]')\n",
    "country_index = lowest_countries_df.groupby('country')[\"pv1_mathematics\"].mean()\n",
    "country_order = country_index.sort_values(ascending = False).index\n",
    "\n",
    "ax = sns.FacetGrid(data = lowest_countries_df, col = 'country',\n",
    "                   col_wrap = 3, size = 3)\n",
    "ax.map(sns.violinplot, 'computer_at_school', 'pv1_mathematics', inner = \"quartile\")\n",
    "ax.set_xlabels(\"Computer at School\", fontsize = 12)\n",
    "ax.set_ylabels(\"PV1 Mathematics\", fontsize = 12);"
   ]
  },
  {
   "cell_type": "markdown",
   "metadata": {},
   "source": [
    "This plot confirms our previous findings that even at the countries with lowest scores, having computers at schools makes students achieved higer grades. For schools that do not have computers, it is obvious to see the density of students who achieved less than the average."
   ]
  },
  {
   "cell_type": "code",
   "execution_count": 97,
   "metadata": {},
   "outputs": [
    {
     "data": {
      "image/png": "[encoded data removed]",
      "text/plain": [
       "<Figure size 576x576 with 4 Axes>"
      ]
     },
     "metadata": {
      "needs_background": "light"
     },
     "output_type": "display_data"
    }
   ],
   "source": [
    "# Checking how students feel in China-Shanghai (The country with the best scores)\n",
    "plt.subplots(figsize = (8,8))\n",
    "\n",
    "plt.subplot(2, 1, 1)\n",
    "\n",
    "China_Shanghai_df = pisa_df.query('country == \"China-Shanghai\"')\n",
    "school_att = China_Shanghai_df.groupby(['feel_happy_at_school', \"belong_at_school\"])[\"pv1_mathematics\"].mean().reset_index()\n",
    "school_att = school_att.pivot(\"belong_at_school\", \"feel_happy_at_school\",\"pv1_mathematics\")\n",
    "ax = sns.heatmap(school_att)\n",
    "plt.title(\"China-Shanghai\", loc = \"right\", fontweight = \"bold\")\n",
    "plt.xlabel(\"Feel happy at School\", fontsize = 12)\n",
    "plt.ylabel(\"Belong at School\", fontsize = 12);\n",
    "\n",
    "# Checking how students feel in Jordan (The country with the lowest scores)\n",
    "\n",
    "plt.subplot(2, 1, 2)\n",
    "\n",
    "jordan_df = pisa_df.query('country == \"Jordan\"')\n",
    "school_att = jordan_df.groupby(['feel_happy_at_school', \"belong_at_school\"])[\"pv1_mathematics\"].mean().reset_index()\n",
    "school_att = school_att.pivot(\"belong_at_school\", \"feel_happy_at_school\",\"pv1_mathematics\")\n",
    "ax = sns.heatmap(school_att)\n",
    "plt.title(\"Jordan\", loc = \"right\", fontweight = 'bold')\n",
    "plt.xlabel(\"Feel happy at School\", fontsize = 12)\n",
    "plt.ylabel(\"Belong at School\", fontsize = 12);\n",
    "\n"
   ]
  },
  {
   "cell_type": "markdown",
   "metadata": {},
   "source": [
    "In china-shanghai, the country with the best scores, most students feel like that they are happy at it and belonging to it and this is reflected on their mean scores between 500 and 600. On the other hand in Jordan, the country with lowest scores, students does not feel happiness or belonging to school and that is why their scores' means are between 380 and 400."
   ]
  },
  {
   "cell_type": "markdown",
   "metadata": {},
   "source": [
    "As a final step for my analysis, I calculated how many students achieved higher than the mean per gender for every country of the top and worst countries in Mathematics scores."
   ]
  },
  {
   "cell_type": "code",
   "execution_count": 98,
   "metadata": {
    "scrolled": false
   },
   "outputs": [
    {
     "data": {
      "image/png": "[encoded data removed]",
      "text/plain": [
       "<Figure size 1080x504 with 1 Axes>"
      ]
     },
     "metadata": {
      "needs_background": "light"
     },
     "output_type": "display_data"
    }
   ],
   "source": [
    "plt.figure(figsize=[15, 7])\n",
    "\n",
    "top_countries_df = pisa_df.query(\"pv1_mathematics >= pv1_mathematics.mean()\")\n",
    "top_countries_df = top_countries_df.query('country == [\"China-Shanghai\", \"Singapore\", \"Hong Kong-China\", \"Chinese Taipei\", \"Korea\"]')\n",
    "\n",
    "country_index = top_countries_df.groupby('country')[\"pv1_mathematics\"].mean()\n",
    "country_order = country_index.sort_values(ascending = False).index\n",
    "\n",
    "sns.countplot(x = \"country\", hue = \"gender\", data = top_countries_df, order = country_order)\n",
    "plt.title(\"Number of students who scored more than the mean per gender for each country \",\n",
    "          fontweight = \"bold\")\n",
    "plt.xlabel(\"Country\", fontsize = 12)\n",
    "plt.ylabel(\"Count\", fontsize = 12);"
   ]
  },
  {
   "cell_type": "code",
   "execution_count": 99,
   "metadata": {},
   "outputs": [
    {
     "data": {
      "image/png": "[encoded data removed]",
      "text/plain": [
       "<Figure size 1080x504 with 1 Axes>"
      ]
     },
     "metadata": {
      "needs_background": "light"
     },
     "output_type": "display_data"
    }
   ],
   "source": [
    "plt.figure(figsize=[15, 7]);\n",
    "\n",
    "lowest_countries_df = pisa_df.query(\"pv1_mathematics >= pv1_mathematics.mean()\")\n",
    "lowest_countries_df = lowest_countries_df.query('country == [\"Jordan\", \"Costa Rica\", \"Uruguay\", \"Mexico\", \"Chile\"]')\n",
    "\n",
    "country_index = lowest_countries_df.groupby('country')[\"pv1_mathematics\"].mean()\n",
    "country_order = country_index.sort_values(ascending = False).index\n",
    "\n",
    "sns.countplot(x = \"country\", hue = \"gender\", data = lowest_countries_df, order = country_order)\n",
    "plt.title(\"Female to Male Ratio in lowest 10 countries with the highest scores\", fontweight = \"bold\")\n",
    "plt.xlabel(\"Country\", fontsize = 12)\n",
    "plt.ylabel(\"Count\", fontsize = 12);"
   ]
  },
  {
   "cell_type": "markdown",
   "metadata": {},
   "source": [
    "There is not any significant difference between males and females in math scores. In some countries, males are better, in other countries we see that females are better, but even in both scenarios, the difference is not important to talk about. This suggests that gender does not have any correlation with academic performance."
   ]
  },
  {
   "cell_type": "markdown",
   "metadata": {},
   "source": [
    "### Talk about some of the relationships you observed in this part of the investigation. Were there features that strengthened each other in terms of looking at your feature(s) of interest?\n",
    "\n",
    "Gender does not have any correlation with academic performance. Both genders had good scores in different countries. Some countries had the males scoring better, others had females, but overall the difference is not so big to judge any correlation between both variables. On the other hand, the visualizations showed that scores are different across different countries. Some had more students scoring higher than mean, higher than the other countries. Therefore, I think that the educational system of each country is affecting students’ scores, but further investigation needs to be done to prove this point. Now, we can say that being a student in some countries, can help you achieve better grades. Moreover, I spotted that if the school is going digital, supporting computers and technology at it, this would help students achieve higher scores. Additionally, I found that students from OECD countries achieve higher scores than Non-OECD ones. Finally, I observed that there is a correlation between students’ feelings at schools and academic performance. If students are feeling happy and connected to the school, this would help them towards better scores.\n",
    "\n",
    "### Were there any interesting or surprising interactions between features?\n",
    "\n",
    "I expected that the top country in Mathemtics scores should be a country from the OECDs but it was not.\n",
    "\n"
   ]
  },
  {
   "cell_type": "markdown",
   "metadata": {},
   "source": [
    "# Sources:\n",
    "\n",
    "1. https://stackoverflow.com/questions/30996289/utf8-codec-cant-decode-byte-0xf3/30997010\n",
    "2. https://www.oecd.org/pisa/pisaproducts/PISA%202012%20Technical%20Report_Chapter%2017.pdf\n",
    "3. https://stackoverflow.com/questions/31749448/how-to-add-percentages-on-top-of-bars-in-seaborn\n",
    "4. https://seaborn.pydata.org/generated/seaborn.heatmap.html\n",
    "5. https://seaborn.pydata.org/tutorial/categorical.html"
   ]
  },
  {
   "cell_type": "code",
   "execution_count": null,
   "metadata": {},
   "outputs": [],
   "source": []
  }
 ],
 "metadata": {
  "kernelspec": {
   "display_name": "Python 3",
   "language": "python",
   "name": "python3"
  },
  "language_info": {
   "codemirror_mode": {
    "name": "ipython",
    "version": 3
   },
   "file_extension": ".py",
   "mimetype": "text/x-python",
   "name": "python",
   "nbconvert_exporter": "python",
   "pygments_lexer": "ipython3",
   "version": "3.7.6"
  }
 },
 "nbformat": 4,
 "nbformat_minor": 4
}
